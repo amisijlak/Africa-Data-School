{
 "cells": [
  {
   "cell_type": "code",
   "execution_count": 1,
   "metadata": {},
   "outputs": [],
   "source": [
    "import requests\n",
    "import json\n",
    "import pandas as pd\n",
    "import plotly.graph_objects as go"
   ]
  },
  {
   "cell_type": "markdown",
   "metadata": {},
   "source": [
    "## Coin API\n",
    "- Coin API is a high-quality, one-stop-solution market data provider for cryptocurrency markets.\n",
    "- https://docs.coinapi.io/?python#timeseries-data-get"
   ]
  },
  {
   "cell_type": "code",
   "execution_count": 5,
   "metadata": {},
   "outputs": [],
   "source": [
    "#url = 'https://rest.coinapi.io/v1/ohlcv/BITSTAMP_SPOT_BCH_USD/latest?period_id=1DAY'\n",
    "with open('./coin_api_key.json') as file:\n",
    "    key = json.load(file).get('key')\n",
    "apikey=key"
   ]
  },
  {
   "cell_type": "code",
   "execution_count": 2,
   "metadata": {},
   "outputs": [],
   "source": [
    "import json"
   ]
  },
  {
   "cell_type": "code",
   "execution_count": 23,
   "metadata": {},
   "outputs": [],
   "source": [
    "url = 'https://rest.coinapi.io/v1/ohlcv/BTC/USD/latest'\n",
    "parameter = {\n",
    "    'period_id': '1HRS'\n",
    "}\n",
    "headers = {'X-CoinAPI-Key': apikey}"
   ]
  },
  {
   "cell_type": "code",
   "execution_count": 24,
   "metadata": {},
   "outputs": [
    {
     "data": {
      "text/plain": [
       "<Response [200]>"
      ]
     },
     "execution_count": 24,
     "metadata": {},
     "output_type": "execute_result"
    }
   ],
   "source": [
    "response = requests.get(url, headers=headers, params=parameter)\n",
    "response"
   ]
  },
  {
   "cell_type": "code",
   "execution_count": 25,
   "metadata": {},
   "outputs": [
    {
     "data": {
      "text/plain": [
       "[{'time_period_start': '2022-02-16T15:00:00.0000000Z',\n",
       "  'time_period_end': '2022-02-16T16:00:00.0000000Z',\n",
       "  'time_open': '2022-02-16T15:00:00.0620000Z',\n",
       "  'time_close': '2022-02-16T15:15:40.9155180Z',\n",
       "  'price_open': 43509.12,\n",
       "  'price_high': 43692.79,\n",
       "  'price_low': 43447.71,\n",
       "  'price_close': 43577.54,\n",
       "  'volume_traded': 301.27344819,\n",
       "  'trades_count': 7927},\n",
       " {'time_period_start': '2022-02-16T14:00:00.0000000Z',\n",
       "  'time_period_end': '2022-02-16T15:00:00.0000000Z',\n",
       "  'time_open': '2022-02-16T14:00:00.0464120Z',\n",
       "  'time_close': '2022-02-16T14:59:59.5888750Z',\n",
       "  'price_open': 43648.02,\n",
       "  'price_high': 43759.5,\n",
       "  'price_low': 43236.5,\n",
       "  'price_close': 43505.94,\n",
       "  'volume_traded': 1665.39710604,\n",
       "  'trades_count': 31302},\n",
       " {'time_period_start': '2022-02-16T13:00:00.0000000Z',\n",
       "  'time_period_end': '2022-02-16T14:00:00.0000000Z',\n",
       "  'time_open': '2022-02-16T13:00:00.4610600Z',\n",
       "  'time_close': '2022-02-16T13:59:59.9567130Z',\n",
       "  'price_open': 44061.56,\n",
       "  'price_high': 44203.0,\n",
       "  'price_low': 43540.2,\n",
       "  'price_close': 43648.02,\n",
       "  'volume_traded': 1280.63792497,\n",
       "  'trades_count': 27668},\n",
       " {'time_period_start': '2022-02-16T12:00:00.0000000Z',\n",
       "  'time_period_end': '2022-02-16T13:00:00.0000000Z',\n",
       "  'time_open': '2022-02-16T12:00:00.1047430Z',\n",
       "  'time_close': '2022-02-16T12:59:58.8370000Z',\n",
       "  'price_open': 44202.42,\n",
       "  'price_high': 44250.0,\n",
       "  'price_low': 43990.0,\n",
       "  'price_close': 44056.8,\n",
       "  'volume_traded': 515.40607464,\n",
       "  'trades_count': 15302},\n",
       " {'time_period_start': '2022-02-16T11:00:00.0000000Z',\n",
       "  'time_period_end': '2022-02-16T12:00:00.0000000Z',\n",
       "  'time_open': '2022-02-16T11:00:01.9521580Z',\n",
       "  'time_close': '2022-02-16T11:59:59.6190000Z',\n",
       "  'price_open': 44143.89,\n",
       "  'price_high': 44301.13,\n",
       "  'price_low': 44135.69,\n",
       "  'price_close': 44213.54,\n",
       "  'volume_traded': 496.53003205,\n",
       "  'trades_count': 14635},\n",
       " {'time_period_start': '2022-02-16T10:00:00.0000000Z',\n",
       "  'time_period_end': '2022-02-16T11:00:00.0000000Z',\n",
       "  'time_open': '2022-02-16T10:00:00.1299610Z',\n",
       "  'time_close': '2022-02-16T10:59:59.7649200Z',\n",
       "  'price_open': 44037.56,\n",
       "  'price_high': 44164.66,\n",
       "  'price_low': 43897.0,\n",
       "  'price_close': 44143.9,\n",
       "  'volume_traded': 357.25834994,\n",
       "  'trades_count': 13298},\n",
       " {'time_period_start': '2022-02-16T09:00:00.0000000Z',\n",
       "  'time_period_end': '2022-02-16T10:00:00.0000000Z',\n",
       "  'time_open': '2022-02-16T09:00:00.1247520Z',\n",
       "  'time_close': '2022-02-16T09:59:59.8130330Z',\n",
       "  'price_open': 44182.57,\n",
       "  'price_high': 44272.05,\n",
       "  'price_low': 44000.01,\n",
       "  'price_close': 44039.83,\n",
       "  'volume_traded': 289.19230388,\n",
       "  'trades_count': 11559},\n",
       " {'time_period_start': '2022-02-16T08:00:00.0000000Z',\n",
       "  'time_period_end': '2022-02-16T09:00:00.0000000Z',\n",
       "  'time_open': '2022-02-16T08:00:00.1485300Z',\n",
       "  'time_close': '2022-02-16T08:59:59.8360390Z',\n",
       "  'price_open': 44219.12,\n",
       "  'price_high': 44372.5,\n",
       "  'price_low': 44155.98,\n",
       "  'price_close': 44182.57,\n",
       "  'volume_traded': 448.0531502,\n",
       "  'trades_count': 14540},\n",
       " {'time_period_start': '2022-02-16T07:00:00.0000000Z',\n",
       "  'time_period_end': '2022-02-16T08:00:00.0000000Z',\n",
       "  'time_open': '2022-02-16T07:00:00.2306910Z',\n",
       "  'time_close': '2022-02-16T07:59:58.7584970Z',\n",
       "  'price_open': 44058.08,\n",
       "  'price_high': 44242.0,\n",
       "  'price_low': 43959.84,\n",
       "  'price_close': 44219.11,\n",
       "  'volume_traded': 291.80770213,\n",
       "  'trades_count': 12728},\n",
       " {'time_period_start': '2022-02-16T06:00:00.0000000Z',\n",
       "  'time_period_end': '2022-02-16T07:00:00.0000000Z',\n",
       "  'time_open': '2022-02-16T06:00:00.2573380Z',\n",
       "  'time_close': '2022-02-16T06:59:59.8920910Z',\n",
       "  'price_open': 44081.12,\n",
       "  'price_high': 44228.96,\n",
       "  'price_low': 44045.0,\n",
       "  'price_close': 44056.88,\n",
       "  'volume_traded': 276.22615366,\n",
       "  'trades_count': 13844},\n",
       " {'time_period_start': '2022-02-16T05:00:00.0000000Z',\n",
       "  'time_period_end': '2022-02-16T06:00:00.0000000Z',\n",
       "  'time_open': '2022-02-16T05:00:00.4140000Z',\n",
       "  'time_close': '2022-02-16T05:59:59.7291980Z',\n",
       "  'price_open': 43926.7,\n",
       "  'price_high': 44172.4,\n",
       "  'price_low': 43913.0,\n",
       "  'price_close': 44081.12,\n",
       "  'volume_traded': 304.42416237,\n",
       "  'trades_count': 16191},\n",
       " {'time_period_start': '2022-02-16T04:00:00.0000000Z',\n",
       "  'time_period_end': '2022-02-16T05:00:00.0000000Z',\n",
       "  'time_open': '2022-02-16T04:00:00.0200790Z',\n",
       "  'time_close': '2022-02-16T04:59:59.9543290Z',\n",
       "  'price_open': 44012.22,\n",
       "  'price_high': 44016.89,\n",
       "  'price_low': 43677.79,\n",
       "  'price_close': 43920.74,\n",
       "  'volume_traded': 718.84830399,\n",
       "  'trades_count': 22907},\n",
       " {'time_period_start': '2022-02-16T03:00:00.0000000Z',\n",
       "  'time_period_end': '2022-02-16T04:00:00.0000000Z',\n",
       "  'time_open': '2022-02-16T03:00:00.5212870Z',\n",
       "  'time_close': '2022-02-16T03:59:59.9706730Z',\n",
       "  'price_open': 44103.13,\n",
       "  'price_high': 44199.79,\n",
       "  'price_low': 43982.68,\n",
       "  'price_close': 44012.22,\n",
       "  'volume_traded': 336.67822679,\n",
       "  'trades_count': 18154},\n",
       " {'time_period_start': '2022-02-16T02:00:00.0000000Z',\n",
       "  'time_period_end': '2022-02-16T03:00:00.0000000Z',\n",
       "  'time_open': '2022-02-16T02:00:00.1433020Z',\n",
       "  'time_close': '2022-02-16T02:59:59.6858030Z',\n",
       "  'price_open': 44011.44,\n",
       "  'price_high': 44110.88,\n",
       "  'price_low': 43923.05,\n",
       "  'price_close': 44106.3,\n",
       "  'volume_traded': 320.55283691,\n",
       "  'trades_count': 19850},\n",
       " {'time_period_start': '2022-02-16T01:00:00.0000000Z',\n",
       "  'time_period_end': '2022-02-16T02:00:00.0000000Z',\n",
       "  'time_open': '2022-02-16T01:00:00.4042570Z',\n",
       "  'time_close': '2022-02-16T01:59:59.7658710Z',\n",
       "  'price_open': 44233.6,\n",
       "  'price_high': 44233.6,\n",
       "  'price_low': 43956.0,\n",
       "  'price_close': 44011.44,\n",
       "  'volume_traded': 697.15181474,\n",
       "  'trades_count': 25105},\n",
       " {'time_period_start': '2022-02-16T00:00:00.0000000Z',\n",
       "  'time_period_end': '2022-02-16T01:00:00.0000000Z',\n",
       "  'time_open': '2022-02-16T00:00:00.1044650Z',\n",
       "  'time_close': '2022-02-16T00:59:59.9420000Z',\n",
       "  'price_open': 44580.73,\n",
       "  'price_high': 44590.75,\n",
       "  'price_low': 44151.97,\n",
       "  'price_close': 44225.7,\n",
       "  'volume_traded': 611.9763836,\n",
       "  'trades_count': 24520},\n",
       " {'time_period_start': '2022-02-15T23:00:00.0000000Z',\n",
       "  'time_period_end': '2022-02-16T00:00:00.0000000Z',\n",
       "  'time_open': '2022-02-15T23:00:00.1094940Z',\n",
       "  'time_close': '2022-02-15T23:59:59.7519800Z',\n",
       "  'price_open': 44199.47,\n",
       "  'price_high': 44785.66,\n",
       "  'price_low': 44112.0,\n",
       "  'price_close': 44583.52,\n",
       "  'volume_traded': 1211.68395734,\n",
       "  'trades_count': 31766},\n",
       " {'time_period_start': '2022-02-15T22:00:00.0000000Z',\n",
       "  'time_period_end': '2022-02-15T23:00:00.0000000Z',\n",
       "  'time_open': '2022-02-15T22:00:00.0877890Z',\n",
       "  'time_close': '2022-02-15T22:59:59.9847480Z',\n",
       "  'price_open': 43992.21,\n",
       "  'price_high': 44400.0,\n",
       "  'price_low': 43987.01,\n",
       "  'price_close': 44199.47,\n",
       "  'volume_traded': 569.94278847,\n",
       "  'trades_count': 23074},\n",
       " {'time_period_start': '2022-02-15T21:00:00.0000000Z',\n",
       "  'time_period_end': '2022-02-15T22:00:00.0000000Z',\n",
       "  'time_open': '2022-02-15T21:00:00.0559880Z',\n",
       "  'time_close': '2022-02-15T21:59:59.4901780Z',\n",
       "  'price_open': 44167.12,\n",
       "  'price_high': 44204.5,\n",
       "  'price_low': 43948.04,\n",
       "  'price_close': 43992.21,\n",
       "  'volume_traded': 678.81652083,\n",
       "  'trades_count': 22079},\n",
       " {'time_period_start': '2022-02-15T20:00:00.0000000Z',\n",
       "  'time_period_end': '2022-02-15T21:00:00.0000000Z',\n",
       "  'time_open': '2022-02-15T20:00:00.8425400Z',\n",
       "  'time_close': '2022-02-15T20:59:59.9132170Z',\n",
       "  'price_open': 44021.06,\n",
       "  'price_high': 44201.78,\n",
       "  'price_low': 43986.0,\n",
       "  'price_close': 44172.23,\n",
       "  'volume_traded': 744.53821558,\n",
       "  'trades_count': 26305},\n",
       " {'time_period_start': '2022-02-15T19:00:00.0000000Z',\n",
       "  'time_period_end': '2022-02-15T20:00:00.0000000Z',\n",
       "  'time_open': '2022-02-15T19:00:00.1166850Z',\n",
       "  'time_close': '2022-02-15T19:59:59.5369420Z',\n",
       "  'price_open': 44155.51,\n",
       "  'price_high': 44171.63,\n",
       "  'price_low': 43976.5,\n",
       "  'price_close': 44021.07,\n",
       "  'volume_traded': 657.18730727,\n",
       "  'trades_count': 24367},\n",
       " {'time_period_start': '2022-02-15T18:00:00.0000000Z',\n",
       "  'time_period_end': '2022-02-15T19:00:00.0000000Z',\n",
       "  'time_open': '2022-02-15T18:00:00.1881860Z',\n",
       "  'time_close': '2022-02-15T18:59:59.1522610Z',\n",
       "  'price_open': 43947.92,\n",
       "  'price_high': 44237.26,\n",
       "  'price_low': 43887.0,\n",
       "  'price_close': 44156.6,\n",
       "  'volume_traded': 915.5811541,\n",
       "  'trades_count': 25514},\n",
       " {'time_period_start': '2022-02-15T17:00:00.0000000Z',\n",
       "  'time_period_end': '2022-02-15T18:00:00.0000000Z',\n",
       "  'time_open': '2022-02-15T17:00:00.3911180Z',\n",
       "  'time_close': '2022-02-15T17:59:59.9516710Z',\n",
       "  'price_open': 44146.36,\n",
       "  'price_high': 44192.79,\n",
       "  'price_low': 43864.89,\n",
       "  'price_close': 43949.5,\n",
       "  'volume_traded': 1137.33572461,\n",
       "  'trades_count': 29389},\n",
       " {'time_period_start': '2022-02-15T16:00:00.0000000Z',\n",
       "  'time_period_end': '2022-02-15T17:00:00.0000000Z',\n",
       "  'time_open': '2022-02-15T16:00:00.0019520Z',\n",
       "  'time_close': '2022-02-15T16:59:59.3208490Z',\n",
       "  'price_open': 44236.88,\n",
       "  'price_high': 44289.46,\n",
       "  'price_low': 44029.22,\n",
       "  'price_close': 44146.36,\n",
       "  'volume_traded': 865.84030713,\n",
       "  'trades_count': 27166},\n",
       " {'time_period_start': '2022-02-15T15:00:00.0000000Z',\n",
       "  'time_period_end': '2022-02-15T16:00:00.0000000Z',\n",
       "  'time_open': '2022-02-15T15:00:00.0981780Z',\n",
       "  'time_close': '2022-02-15T15:59:59.9123500Z',\n",
       "  'price_open': 44280.65,\n",
       "  'price_high': 44328.8,\n",
       "  'price_low': 44127.76,\n",
       "  'price_close': 44236.88,\n",
       "  'volume_traded': 1151.86027092,\n",
       "  'trades_count': 29316},\n",
       " {'time_period_start': '2022-02-15T14:00:00.0000000Z',\n",
       "  'time_period_end': '2022-02-15T15:00:00.0000000Z',\n",
       "  'time_open': '2022-02-15T14:00:00.0180000Z',\n",
       "  'time_close': '2022-02-15T14:59:59.4356390Z',\n",
       "  'price_open': 44282.7,\n",
       "  'price_high': 44543.9,\n",
       "  'price_low': 44204.76,\n",
       "  'price_close': 44280.65,\n",
       "  'volume_traded': 1520.36055952,\n",
       "  'trades_count': 33289},\n",
       " {'time_period_start': '2022-02-15T13:00:00.0000000Z',\n",
       "  'time_period_end': '2022-02-15T14:00:00.0000000Z',\n",
       "  'time_open': '2022-02-15T13:00:00.1131010Z',\n",
       "  'time_close': '2022-02-15T13:59:59.9185810Z',\n",
       "  'price_open': 44205.42,\n",
       "  'price_high': 44357.49,\n",
       "  'price_low': 44021.3,\n",
       "  'price_close': 44268.73,\n",
       "  'volume_traded': 1010.80708379,\n",
       "  'trades_count': 23978},\n",
       " {'time_period_start': '2022-02-15T12:00:00.0000000Z',\n",
       "  'time_period_end': '2022-02-15T13:00:00.0000000Z',\n",
       "  'time_open': '2022-02-15T12:00:00.3832840Z',\n",
       "  'time_close': '2022-02-15T12:59:59.8041590Z',\n",
       "  'price_open': 44257.14,\n",
       "  'price_high': 44393.83,\n",
       "  'price_low': 44158.25,\n",
       "  'price_close': 44205.42,\n",
       "  'volume_traded': 849.30242791,\n",
       "  'trades_count': 19481},\n",
       " {'time_period_start': '2022-02-15T11:00:00.0000000Z',\n",
       "  'time_period_end': '2022-02-15T12:00:00.0000000Z',\n",
       "  'time_open': '2022-02-15T11:00:00.2236620Z',\n",
       "  'time_close': '2022-02-15T11:59:59.3769820Z',\n",
       "  'price_open': 44302.64,\n",
       "  'price_high': 44476.21,\n",
       "  'price_low': 44129.0,\n",
       "  'price_close': 44257.15,\n",
       "  'volume_traded': 996.67975519,\n",
       "  'trades_count': 18562},\n",
       " {'time_period_start': '2022-02-15T10:00:00.0000000Z',\n",
       "  'time_period_end': '2022-02-15T11:00:00.0000000Z',\n",
       "  'time_open': '2022-02-15T10:00:00.4373350Z',\n",
       "  'time_close': '2022-02-15T10:59:59.6570000Z',\n",
       "  'price_open': 44080.64,\n",
       "  'price_high': 44417.51,\n",
       "  'price_low': 43994.23,\n",
       "  'price_close': 44304.4,\n",
       "  'volume_traded': 1340.93643339,\n",
       "  'trades_count': 21400},\n",
       " {'time_period_start': '2022-02-15T09:00:00.0000000Z',\n",
       "  'time_period_end': '2022-02-15T10:00:00.0000000Z',\n",
       "  'time_open': '2022-02-15T09:00:00.4024670Z',\n",
       "  'time_close': '2022-02-15T09:59:59.5495980Z',\n",
       "  'price_open': 44012.91,\n",
       "  'price_high': 44135.86,\n",
       "  'price_low': 43866.5,\n",
       "  'price_close': 44083.3,\n",
       "  'volume_traded': 1003.85385175,\n",
       "  'trades_count': 17299},\n",
       " {'time_period_start': '2022-02-15T08:00:00.0000000Z',\n",
       "  'time_period_end': '2022-02-15T09:00:00.0000000Z',\n",
       "  'time_open': '2022-02-15T08:00:00.1013420Z',\n",
       "  'time_close': '2022-02-15T08:59:59.3751030Z',\n",
       "  'price_open': 43723.97,\n",
       "  'price_high': 44193.845,\n",
       "  'price_low': 43626.5,\n",
       "  'price_close': 44015.33,\n",
       "  'volume_traded': 1762.19162607,\n",
       "  'trades_count': 25305},\n",
       " {'time_period_start': '2022-02-15T07:00:00.0000000Z',\n",
       "  'time_period_end': '2022-02-15T08:00:00.0000000Z',\n",
       "  'time_open': '2022-02-15T07:00:00.2560000Z',\n",
       "  'time_close': '2022-02-15T07:59:59.9342560Z',\n",
       "  'price_open': 43571.5,\n",
       "  'price_high': 43809.5,\n",
       "  'price_low': 43541.37,\n",
       "  'price_close': 43723.98,\n",
       "  'volume_traded': 661.52401083,\n",
       "  'trades_count': 14754},\n",
       " {'time_period_start': '2022-02-15T06:00:00.0000000Z',\n",
       "  'time_period_end': '2022-02-15T07:00:00.0000000Z',\n",
       "  'time_open': '2022-02-15T06:00:00.6329130Z',\n",
       "  'time_close': '2022-02-15T06:59:59.2879710Z',\n",
       "  'price_open': 43601.75,\n",
       "  'price_high': 43740.0,\n",
       "  'price_low': 43552.63,\n",
       "  'price_close': 43572.49,\n",
       "  'volume_traded': 340.00185431,\n",
       "  'trades_count': 12796},\n",
       " {'time_period_start': '2022-02-15T05:00:00.0000000Z',\n",
       "  'time_period_end': '2022-02-15T06:00:00.0000000Z',\n",
       "  'time_open': '2022-02-15T05:00:00.1106100Z',\n",
       "  'time_close': '2022-02-15T05:59:59.0587120Z',\n",
       "  'price_open': 43483.3,\n",
       "  'price_high': 43647.96,\n",
       "  'price_low': 43383.0,\n",
       "  'price_close': 43601.75,\n",
       "  'volume_traded': 494.19842065,\n",
       "  'trades_count': 14594},\n",
       " {'time_period_start': '2022-02-15T04:00:00.0000000Z',\n",
       "  'time_period_end': '2022-02-15T05:00:00.0000000Z',\n",
       "  'time_open': '2022-02-15T04:00:00.1686170Z',\n",
       "  'time_close': '2022-02-15T04:59:59.8989620Z',\n",
       "  'price_open': 43599.52,\n",
       "  'price_high': 43813.89,\n",
       "  'price_low': 43474.02,\n",
       "  'price_close': 43483.28,\n",
       "  'volume_traded': 684.90901594,\n",
       "  'trades_count': 18656},\n",
       " {'time_period_start': '2022-02-15T03:00:00.0000000Z',\n",
       "  'time_period_end': '2022-02-15T04:00:00.0000000Z',\n",
       "  'time_open': '2022-02-15T03:00:00.5579970Z',\n",
       "  'time_close': '2022-02-15T03:59:59.1844960Z',\n",
       "  'price_open': 43594.18,\n",
       "  'price_high': 43692.29,\n",
       "  'price_low': 43521.4,\n",
       "  'price_close': 43599.52,\n",
       "  'volume_traded': 455.94055415,\n",
       "  'trades_count': 16425},\n",
       " {'time_period_start': '2022-02-15T02:00:00.0000000Z',\n",
       "  'time_period_end': '2022-02-15T03:00:00.0000000Z',\n",
       "  'time_open': '2022-02-15T02:00:00.2696070Z',\n",
       "  'time_close': '2022-02-15T02:59:59.7208620Z',\n",
       "  'price_open': 43485.76,\n",
       "  'price_high': 43718.07,\n",
       "  'price_low': 43412.38,\n",
       "  'price_close': 43592.01,\n",
       "  'volume_traded': 1031.01071551,\n",
       "  'trades_count': 24331},\n",
       " {'time_period_start': '2022-02-15T01:00:00.0000000Z',\n",
       "  'time_period_end': '2022-02-15T02:00:00.0000000Z',\n",
       "  'time_open': '2022-02-15T01:00:00.2049630Z',\n",
       "  'time_close': '2022-02-15T01:59:59.6269870Z',\n",
       "  'price_open': 42595.14,\n",
       "  'price_high': 43649.99,\n",
       "  'price_low': 42533.88,\n",
       "  'price_close': 43485.77,\n",
       "  'volume_traded': 1786.7071013,\n",
       "  'trades_count': 33517},\n",
       " {'time_period_start': '2022-02-15T00:00:00.0000000Z',\n",
       "  'time_period_end': '2022-02-15T01:00:00.0000000Z',\n",
       "  'time_open': '2022-02-15T00:00:00.0946460Z',\n",
       "  'time_close': '2022-02-15T00:59:59.8458730Z',\n",
       "  'price_open': 42548.71,\n",
       "  'price_high': 42697.25,\n",
       "  'price_low': 42428.0,\n",
       "  'price_close': 42595.15,\n",
       "  'volume_traded': 600.74595895,\n",
       "  'trades_count': 18651},\n",
       " {'time_period_start': '2022-02-14T23:00:00.0000000Z',\n",
       "  'time_period_end': '2022-02-15T00:00:00.0000000Z',\n",
       "  'time_open': '2022-02-14T23:00:00.0376090Z',\n",
       "  'time_close': '2022-02-14T23:59:59.6412180Z',\n",
       "  'price_open': 42696.67,\n",
       "  'price_high': 42838.9,\n",
       "  'price_low': 42533.41,\n",
       "  'price_close': 42548.71,\n",
       "  'volume_traded': 651.88117061,\n",
       "  'trades_count': 18399},\n",
       " {'time_period_start': '2022-02-14T22:00:00.0000000Z',\n",
       "  'time_period_end': '2022-02-14T23:00:00.0000000Z',\n",
       "  'time_open': '2022-02-14T22:00:00.1229350Z',\n",
       "  'time_close': '2022-02-14T22:59:59.6835940Z',\n",
       "  'price_open': 42252.86,\n",
       "  'price_high': 42800.0,\n",
       "  'price_low': 42242.36,\n",
       "  'price_close': 42693.32,\n",
       "  'volume_traded': 766.69153558,\n",
       "  'trades_count': 21134},\n",
       " {'time_period_start': '2022-02-14T21:00:00.0000000Z',\n",
       "  'time_period_end': '2022-02-14T22:00:00.0000000Z',\n",
       "  'time_open': '2022-02-14T21:00:00.0336990Z',\n",
       "  'time_close': '2022-02-14T21:59:59.8837890Z',\n",
       "  'price_open': 42198.55,\n",
       "  'price_high': 42314.74,\n",
       "  'price_low': 42112.98,\n",
       "  'price_close': 42249.98,\n",
       "  'volume_traded': 533.85264987,\n",
       "  'trades_count': 19262},\n",
       " {'time_period_start': '2022-02-14T20:00:00.0000000Z',\n",
       "  'time_period_end': '2022-02-14T21:00:00.0000000Z',\n",
       "  'time_open': '2022-02-14T20:00:00.1861620Z',\n",
       "  'time_close': '2022-02-14T20:59:59.9742990Z',\n",
       "  'price_open': 42137.03,\n",
       "  'price_high': 42344.69,\n",
       "  'price_low': 42002.72,\n",
       "  'price_close': 42206.9,\n",
       "  'volume_traded': 1495.41982669,\n",
       "  'trades_count': 31773},\n",
       " {'time_period_start': '2022-02-14T19:00:00.0000000Z',\n",
       "  'time_period_end': '2022-02-14T20:00:00.0000000Z',\n",
       "  'time_open': '2022-02-14T19:00:00.0754100Z',\n",
       "  'time_close': '2022-02-14T19:59:59.6040080Z',\n",
       "  'price_open': 42245.28,\n",
       "  'price_high': 42313.18,\n",
       "  'price_low': 41800.0,\n",
       "  'price_close': 42137.03,\n",
       "  'volume_traded': 1863.8963522,\n",
       "  'trades_count': 41599},\n",
       " {'time_period_start': '2022-02-14T18:00:00.0000000Z',\n",
       "  'time_period_end': '2022-02-14T19:00:00.0000000Z',\n",
       "  'time_open': '2022-02-14T18:00:00.2780750Z',\n",
       "  'time_close': '2022-02-14T18:59:59.8437880Z',\n",
       "  'price_open': 42596.55,\n",
       "  'price_high': 42689.92,\n",
       "  'price_low': 42209.64,\n",
       "  'price_close': 42241.72,\n",
       "  'volume_traded': 1148.92926805,\n",
       "  'trades_count': 29466},\n",
       " {'time_period_start': '2022-02-14T17:00:00.0000000Z',\n",
       "  'time_period_end': '2022-02-14T18:00:00.0000000Z',\n",
       "  'time_open': '2022-02-14T17:00:00.0809820Z',\n",
       "  'time_close': '2022-02-14T17:59:59.6306750Z',\n",
       "  'price_open': 42672.96,\n",
       "  'price_high': 42829.5,\n",
       "  'price_low': 42506.04,\n",
       "  'price_close': 42595.92,\n",
       "  'volume_traded': 950.20027645,\n",
       "  'trades_count': 24882},\n",
       " {'time_period_start': '2022-02-14T16:00:00.0000000Z',\n",
       "  'time_period_end': '2022-02-14T17:00:00.0000000Z',\n",
       "  'time_open': '2022-02-14T16:00:00.0117100Z',\n",
       "  'time_close': '2022-02-14T16:59:59.2665230Z',\n",
       "  'price_open': 42601.1,\n",
       "  'price_high': 42858.0,\n",
       "  'price_low': 42563.58,\n",
       "  'price_close': 42672.95,\n",
       "  'volume_traded': 1163.70258443,\n",
       "  'trades_count': 29951},\n",
       " {'time_period_start': '2022-02-14T15:00:00.0000000Z',\n",
       "  'time_period_end': '2022-02-14T16:00:00.0000000Z',\n",
       "  'time_open': '2022-02-14T15:00:00.0016540Z',\n",
       "  'time_close': '2022-02-14T15:59:59.9749830Z',\n",
       "  'price_open': 42530.0,\n",
       "  'price_high': 42686.36,\n",
       "  'price_low': 42340.49,\n",
       "  'price_close': 42598.78,\n",
       "  'volume_traded': 1594.8294641,\n",
       "  'trades_count': 34099},\n",
       " {'time_period_start': '2022-02-14T14:00:00.0000000Z',\n",
       "  'time_period_end': '2022-02-14T15:00:00.0000000Z',\n",
       "  'time_open': '2022-02-14T14:00:00.1350620Z',\n",
       "  'time_close': '2022-02-14T14:59:59.9957070Z',\n",
       "  'price_open': 42510.91,\n",
       "  'price_high': 42876.15,\n",
       "  'price_low': 42482.8,\n",
       "  'price_close': 42530.0,\n",
       "  'volume_traded': 1371.5353713,\n",
       "  'trades_count': 32449},\n",
       " {'time_period_start': '2022-02-14T13:00:00.0000000Z',\n",
       "  'time_period_end': '2022-02-14T14:00:00.0000000Z',\n",
       "  'time_open': '2022-02-14T13:00:00.2601780Z',\n",
       "  'time_close': '2022-02-14T13:59:59.9389700Z',\n",
       "  'price_open': 42564.37,\n",
       "  'price_high': 42708.58,\n",
       "  'price_low': 42395.23,\n",
       "  'price_close': 42510.67,\n",
       "  'volume_traded': 948.85067636,\n",
       "  'trades_count': 23195},\n",
       " {'time_period_start': '2022-02-14T12:00:00.0000000Z',\n",
       "  'time_period_end': '2022-02-14T13:00:00.0000000Z',\n",
       "  'time_open': '2022-02-14T12:00:00.2050000Z',\n",
       "  'time_close': '2022-02-14T12:59:59.9676070Z',\n",
       "  'price_open': 42119.28,\n",
       "  'price_high': 42632.0,\n",
       "  'price_low': 41961.66,\n",
       "  'price_close': 42559.56,\n",
       "  'volume_traded': 1230.28371271,\n",
       "  'trades_count': 23799},\n",
       " {'time_period_start': '2022-02-14T11:00:00.0000000Z',\n",
       "  'time_period_end': '2022-02-14T12:00:00.0000000Z',\n",
       "  'time_open': '2022-02-14T11:00:01.1349240Z',\n",
       "  'time_close': '2022-02-14T11:59:58.5337390Z',\n",
       "  'price_open': 42238.54,\n",
       "  'price_high': 42297.7,\n",
       "  'price_low': 42084.35,\n",
       "  'price_close': 42129.03,\n",
       "  'volume_traded': 480.41786895,\n",
       "  'trades_count': 12518},\n",
       " {'time_period_start': '2022-02-14T10:00:00.0000000Z',\n",
       "  'time_period_end': '2022-02-14T11:00:00.0000000Z',\n",
       "  'time_open': '2022-02-14T10:00:00.6014030Z',\n",
       "  'time_close': '2022-02-14T10:59:58.3787900Z',\n",
       "  'price_open': 42085.49,\n",
       "  'price_high': 42309.5,\n",
       "  'price_low': 41927.18,\n",
       "  'price_close': 42245.52,\n",
       "  'volume_traded': 578.72409628,\n",
       "  'trades_count': 16708},\n",
       " {'time_period_start': '2022-02-14T09:00:00.0000000Z',\n",
       "  'time_period_end': '2022-02-14T10:00:00.0000000Z',\n",
       "  'time_open': '2022-02-14T09:00:00.0459110Z',\n",
       "  'time_close': '2022-02-14T09:59:58.9178880Z',\n",
       "  'price_open': 42042.26,\n",
       "  'price_high': 42248.0,\n",
       "  'price_low': 41947.21,\n",
       "  'price_close': 42075.74,\n",
       "  'volume_traded': 1025.60431229,\n",
       "  'trades_count': 19627},\n",
       " {'time_period_start': '2022-02-14T08:00:00.0000000Z',\n",
       "  'time_period_end': '2022-02-14T09:00:00.0000000Z',\n",
       "  'time_open': '2022-02-14T08:00:00.1800000Z',\n",
       "  'time_close': '2022-02-14T08:59:59.6787260Z',\n",
       "  'price_open': 42337.26,\n",
       "  'price_high': 42461.5,\n",
       "  'price_low': 42010.37,\n",
       "  'price_close': 42045.38,\n",
       "  'volume_traded': 763.33350191,\n",
       "  'trades_count': 18030},\n",
       " {'time_period_start': '2022-02-14T07:00:00.0000000Z',\n",
       "  'time_period_end': '2022-02-14T08:00:00.0000000Z',\n",
       "  'time_open': '2022-02-14T07:00:00.3408000Z',\n",
       "  'time_close': '2022-02-14T07:59:59.9500000Z',\n",
       "  'price_open': 42202.28,\n",
       "  'price_high': 42388.11,\n",
       "  'price_low': 42124.31,\n",
       "  'price_close': 42337.26,\n",
       "  'volume_traded': 442.4300066,\n",
       "  'trades_count': 14553},\n",
       " {'time_period_start': '2022-02-14T06:00:00.0000000Z',\n",
       "  'time_period_end': '2022-02-14T07:00:00.0000000Z',\n",
       "  'time_open': '2022-02-14T06:00:00.1077500Z',\n",
       "  'time_close': '2022-02-14T06:59:59.8347170Z',\n",
       "  'price_open': 41789.15,\n",
       "  'price_high': 42382.64,\n",
       "  'price_low': 41743.87,\n",
       "  'price_close': 42202.27,\n",
       "  'volume_traded': 742.49246726,\n",
       "  'trades_count': 17983},\n",
       " {'time_period_start': '2022-02-14T05:00:00.0000000Z',\n",
       "  'time_period_end': '2022-02-14T06:00:00.0000000Z',\n",
       "  'time_open': '2022-02-14T05:00:00.1187840Z',\n",
       "  'time_close': '2022-02-14T05:59:59.9271700Z',\n",
       "  'price_open': 41974.6,\n",
       "  'price_high': 42028.13,\n",
       "  'price_low': 41761.5,\n",
       "  'price_close': 41789.15,\n",
       "  'volume_traded': 425.77792085,\n",
       "  'trades_count': 14436},\n",
       " {'time_period_start': '2022-02-14T04:00:00.0000000Z',\n",
       "  'time_period_end': '2022-02-14T05:00:00.0000000Z',\n",
       "  'time_open': '2022-02-14T04:00:00.2475470Z',\n",
       "  'time_close': '2022-02-14T04:59:58.6122710Z',\n",
       "  'price_open': 41930.36,\n",
       "  'price_high': 41993.85,\n",
       "  'price_low': 41844.42,\n",
       "  'price_close': 41973.39,\n",
       "  'volume_traded': 371.46588593,\n",
       "  'trades_count': 15964},\n",
       " {'time_period_start': '2022-02-14T03:00:00.0000000Z',\n",
       "  'time_period_end': '2022-02-14T04:00:00.0000000Z',\n",
       "  'time_open': '2022-02-14T03:00:00.5593860Z',\n",
       "  'time_close': '2022-02-14T03:59:58.3686290Z',\n",
       "  'price_open': 41711.16,\n",
       "  'price_high': 41990.78,\n",
       "  'price_low': 41621.0,\n",
       "  'price_close': 41931.06,\n",
       "  'volume_traded': 570.32196603,\n",
       "  'trades_count': 20793},\n",
       " {'time_period_start': '2022-02-14T02:00:00.0000000Z',\n",
       "  'time_period_end': '2022-02-14T03:00:00.0000000Z',\n",
       "  'time_open': '2022-02-14T02:00:00.1300250Z',\n",
       "  'time_close': '2022-02-14T02:59:59.9150780Z',\n",
       "  'price_open': 41686.85,\n",
       "  'price_high': 41856.24,\n",
       "  'price_low': 41617.6,\n",
       "  'price_close': 41711.17,\n",
       "  'volume_traded': 609.71185943,\n",
       "  'trades_count': 20993},\n",
       " {'time_period_start': '2022-02-14T01:00:00.0000000Z',\n",
       "  'time_period_end': '2022-02-14T02:00:00.0000000Z',\n",
       "  'time_open': '2022-02-14T01:00:00.4961910Z',\n",
       "  'time_close': '2022-02-14T01:59:59.7484520Z',\n",
       "  'price_open': 42132.91,\n",
       "  'price_high': 42167.31,\n",
       "  'price_low': 41554.626,\n",
       "  'price_close': 41689.59,\n",
       "  'volume_traded': 1229.72265891,\n",
       "  'trades_count': 31245},\n",
       " {'time_period_start': '2022-02-14T00:00:00.0000000Z',\n",
       "  'time_period_end': '2022-02-14T01:00:00.0000000Z',\n",
       "  'time_open': '2022-02-14T00:00:00.1799450Z',\n",
       "  'time_close': '2022-02-14T00:59:59.5548070Z',\n",
       "  'price_open': 42073.37,\n",
       "  'price_high': 42247.7,\n",
       "  'price_low': 41948.37,\n",
       "  'price_close': 42134.51,\n",
       "  'volume_traded': 644.82226895,\n",
       "  'trades_count': 25544},\n",
       " {'time_period_start': '2022-02-13T23:00:00.0000000Z',\n",
       "  'time_period_end': '2022-02-14T00:00:00.0000000Z',\n",
       "  'time_open': '2022-02-13T23:00:00.8100550Z',\n",
       "  'time_close': '2022-02-13T23:59:59.3392940Z',\n",
       "  'price_open': 42394.66,\n",
       "  'price_high': 42421.0,\n",
       "  'price_low': 42025.882,\n",
       "  'price_close': 42074.99,\n",
       "  'volume_traded': 725.95083309,\n",
       "  'trades_count': 23184},\n",
       " {'time_period_start': '2022-02-13T22:00:00.0000000Z',\n",
       "  'time_period_end': '2022-02-13T23:00:00.0000000Z',\n",
       "  'time_open': '2022-02-13T22:00:00.3976640Z',\n",
       "  'time_close': '2022-02-13T22:59:59.4610000Z',\n",
       "  'price_open': 42226.89,\n",
       "  'price_high': 42446.5,\n",
       "  'price_low': 42219.5,\n",
       "  'price_close': 42399.1,\n",
       "  'volume_traded': 342.69913968,\n",
       "  'trades_count': 17803},\n",
       " {'time_period_start': '2022-02-13T21:00:00.0000000Z',\n",
       "  'time_period_end': '2022-02-13T22:00:00.0000000Z',\n",
       "  'time_open': '2022-02-13T21:00:00.0987590Z',\n",
       "  'time_close': '2022-02-13T21:59:59.2970000Z',\n",
       "  'price_open': 42464.63,\n",
       "  'price_high': 42543.6,\n",
       "  'price_low': 42215.0,\n",
       "  'price_close': 42235.9,\n",
       "  'volume_traded': 432.66148144,\n",
       "  'trades_count': 18807},\n",
       " {'time_period_start': '2022-02-13T20:00:00.0000000Z',\n",
       "  'time_period_end': '2022-02-13T21:00:00.0000000Z',\n",
       "  'time_open': '2022-02-13T20:00:00.2916950Z',\n",
       "  'time_close': '2022-02-13T20:59:59.8289420Z',\n",
       "  'price_open': 42055.77,\n",
       "  'price_high': 42468.13,\n",
       "  'price_low': 41950.06,\n",
       "  'price_close': 42463.19,\n",
       "  'volume_traded': 465.13702926,\n",
       "  'trades_count': 21874},\n",
       " {'time_period_start': '2022-02-13T19:00:00.0000000Z',\n",
       "  'time_period_end': '2022-02-13T20:00:00.0000000Z',\n",
       "  'time_open': '2022-02-13T19:00:00.2293140Z',\n",
       "  'time_close': '2022-02-13T19:59:59.8366360Z',\n",
       "  'price_open': 41999.79,\n",
       "  'price_high': 42210.64,\n",
       "  'price_low': 41887.0,\n",
       "  'price_close': 42055.77,\n",
       "  'volume_traded': 573.26020575,\n",
       "  'trades_count': 21526},\n",
       " {'time_period_start': '2022-02-13T18:00:00.0000000Z',\n",
       "  'time_period_end': '2022-02-13T19:00:00.0000000Z',\n",
       "  'time_open': '2022-02-13T18:00:00.1188860Z',\n",
       "  'time_close': '2022-02-13T18:59:59.7181040Z',\n",
       "  'price_open': 42285.27,\n",
       "  'price_high': 42422.65,\n",
       "  'price_low': 41882.54,\n",
       "  'price_close': 41999.79,\n",
       "  'volume_traded': 1047.24608837,\n",
       "  'trades_count': 24384},\n",
       " {'time_period_start': '2022-02-13T17:00:00.0000000Z',\n",
       "  'time_period_end': '2022-02-13T18:00:00.0000000Z',\n",
       "  'time_open': '2022-02-13T17:00:00.3914450Z',\n",
       "  'time_close': '2022-02-13T17:59:59.8451200Z',\n",
       "  'price_open': 42332.65,\n",
       "  'price_high': 42334.79,\n",
       "  'price_low': 42086.53,\n",
       "  'price_close': 42287.04,\n",
       "  'volume_traded': 542.59327543,\n",
       "  'trades_count': 19915},\n",
       " {'time_period_start': '2022-02-13T16:00:00.0000000Z',\n",
       "  'time_period_end': '2022-02-13T17:00:00.0000000Z',\n",
       "  'time_open': '2022-02-13T16:00:00.1422650Z',\n",
       "  'time_close': '2022-02-13T16:59:59.9499510Z',\n",
       "  'price_open': 42592.82,\n",
       "  'price_high': 42616.614,\n",
       "  'price_low': 42217.71,\n",
       "  'price_close': 42332.64,\n",
       "  'volume_traded': 616.38796048,\n",
       "  'trades_count': 20340},\n",
       " {'time_period_start': '2022-02-13T15:00:00.0000000Z',\n",
       "  'time_period_end': '2022-02-13T16:00:00.0000000Z',\n",
       "  'time_open': '2022-02-13T15:00:00.2599670Z',\n",
       "  'time_close': '2022-02-13T15:59:59.9905160Z',\n",
       "  'price_open': 42551.17,\n",
       "  'price_high': 42784.0,\n",
       "  'price_low': 42514.5,\n",
       "  'price_close': 42584.73,\n",
       "  'volume_traded': 482.26317557,\n",
       "  'trades_count': 17564},\n",
       " {'time_period_start': '2022-02-13T14:00:00.0000000Z',\n",
       "  'time_period_end': '2022-02-13T15:00:00.0000000Z',\n",
       "  'time_open': '2022-02-13T14:00:00.0254550Z',\n",
       "  'time_close': '2022-02-13T14:59:59.3361390Z',\n",
       "  'price_open': 42531.8,\n",
       "  'price_high': 42738.8,\n",
       "  'price_low': 42193.02,\n",
       "  'price_close': 42544.6,\n",
       "  'volume_traded': 725.04114322,\n",
       "  'trades_count': 19410},\n",
       " {'time_period_start': '2022-02-13T13:00:00.0000000Z',\n",
       "  'time_period_end': '2022-02-13T14:00:00.0000000Z',\n",
       "  'time_open': '2022-02-13T13:00:00.1352800Z',\n",
       "  'time_close': '2022-02-13T13:59:59.2904030Z',\n",
       "  'price_open': 42498.88,\n",
       "  'price_high': 42603.92,\n",
       "  'price_low': 42416.94,\n",
       "  'price_close': 42531.79,\n",
       "  'volume_traded': 282.37841102,\n",
       "  'trades_count': 11271},\n",
       " {'time_period_start': '2022-02-13T12:00:00.0000000Z',\n",
       "  'time_period_end': '2022-02-13T13:00:00.0000000Z',\n",
       "  'time_open': '2022-02-13T12:00:00.4311670Z',\n",
       "  'time_close': '2022-02-13T12:59:58.4893400Z',\n",
       "  'price_open': 42497.08,\n",
       "  'price_high': 42650.0,\n",
       "  'price_low': 42438.09,\n",
       "  'price_close': 42498.88,\n",
       "  'volume_traded': 263.47243193,\n",
       "  'trades_count': 9587},\n",
       " {'time_period_start': '2022-02-13T11:00:00.0000000Z',\n",
       "  'time_period_end': '2022-02-13T12:00:00.0000000Z',\n",
       "  'time_open': '2022-02-13T11:00:00.0050000Z',\n",
       "  'time_close': '2022-02-13T11:59:59.9295280Z',\n",
       "  'price_open': 42610.1,\n",
       "  'price_high': 42674.96,\n",
       "  'price_low': 42477.2,\n",
       "  'price_close': 42497.09,\n",
       "  'volume_traded': 209.66598557,\n",
       "  'trades_count': 8624},\n",
       " {'time_period_start': '2022-02-13T10:00:00.0000000Z',\n",
       "  'time_period_end': '2022-02-13T11:00:00.0000000Z',\n",
       "  'time_open': '2022-02-13T10:00:00.3491110Z',\n",
       "  'time_close': '2022-02-13T10:59:58.3263350Z',\n",
       "  'price_open': 42335.95,\n",
       "  'price_high': 42663.69,\n",
       "  'price_low': 42270.09,\n",
       "  'price_close': 42594.62,\n",
       "  'volume_traded': 371.98970396,\n",
       "  'trades_count': 11698},\n",
       " {'time_period_start': '2022-02-13T09:00:00.0000000Z',\n",
       "  'time_period_end': '2022-02-13T10:00:00.0000000Z',\n",
       "  'time_open': '2022-02-13T09:00:01.5715680Z',\n",
       "  'time_close': '2022-02-13T09:59:59.4380230Z',\n",
       "  'price_open': 42471.1,\n",
       "  'price_high': 42489.06,\n",
       "  'price_low': 42296.29,\n",
       "  'price_close': 42335.95,\n",
       "  'volume_traded': 196.56441406,\n",
       "  'trades_count': 8940},\n",
       " {'time_period_start': '2022-02-13T08:00:00.0000000Z',\n",
       "  'time_period_end': '2022-02-13T09:00:00.0000000Z',\n",
       "  'time_open': '2022-02-13T08:00:00.4417060Z',\n",
       "  'time_close': '2022-02-13T08:59:58.9644930Z',\n",
       "  'price_open': 42432.09,\n",
       "  'price_high': 42524.16,\n",
       "  'price_low': 42349.57,\n",
       "  'price_close': 42471.11,\n",
       "  'volume_traded': 194.44595738,\n",
       "  'trades_count': 9812},\n",
       " {'time_period_start': '2022-02-13T07:00:00.0000000Z',\n",
       "  'time_period_end': '2022-02-13T08:00:00.0000000Z',\n",
       "  'time_open': '2022-02-13T07:00:00.0676450Z',\n",
       "  'time_close': '2022-02-13T07:59:59.7532300Z',\n",
       "  'price_open': 42444.98,\n",
       "  'price_high': 42488.0,\n",
       "  'price_low': 42313.91,\n",
       "  'price_close': 42432.09,\n",
       "  'volume_traded': 233.3905762,\n",
       "  'trades_count': 9595},\n",
       " {'time_period_start': '2022-02-13T06:00:00.0000000Z',\n",
       "  'time_period_end': '2022-02-13T07:00:00.0000000Z',\n",
       "  'time_open': '2022-02-13T06:00:00.2504880Z',\n",
       "  'time_close': '2022-02-13T06:59:58.3552680Z',\n",
       "  'price_open': 42293.1,\n",
       "  'price_high': 42462.16,\n",
       "  'price_low': 42235.73,\n",
       "  'price_close': 42444.98,\n",
       "  'volume_traded': 239.85512043,\n",
       "  'trades_count': 12671},\n",
       " {'time_period_start': '2022-02-13T05:00:00.0000000Z',\n",
       "  'time_period_end': '2022-02-13T06:00:00.0000000Z',\n",
       "  'time_open': '2022-02-13T05:00:00.8790560Z',\n",
       "  'time_close': '2022-02-13T05:59:59.3712250Z',\n",
       "  'price_open': 42224.11,\n",
       "  'price_high': 42340.7,\n",
       "  'price_low': 42141.35,\n",
       "  'price_close': 42293.1,\n",
       "  'volume_traded': 225.77039636,\n",
       "  'trades_count': 10881},\n",
       " {'time_period_start': '2022-02-13T04:00:00.0000000Z',\n",
       "  'time_period_end': '2022-02-13T05:00:00.0000000Z',\n",
       "  'time_open': '2022-02-13T04:00:00.0925200Z',\n",
       "  'time_close': '2022-02-13T04:59:59.9460140Z',\n",
       "  'price_open': 42243.08,\n",
       "  'price_high': 42362.53,\n",
       "  'price_low': 42131.92,\n",
       "  'price_close': 42225.8,\n",
       "  'volume_traded': 187.84540071,\n",
       "  'trades_count': 12870},\n",
       " {'time_period_start': '2022-02-13T03:00:00.0000000Z',\n",
       "  'time_period_end': '2022-02-13T04:00:00.0000000Z',\n",
       "  'time_open': '2022-02-13T03:00:00.3149370Z',\n",
       "  'time_close': '2022-02-13T03:59:59.9414940Z',\n",
       "  'price_open': 42235.03,\n",
       "  'price_high': 42323.43,\n",
       "  'price_low': 42167.31,\n",
       "  'price_close': 42243.08,\n",
       "  'volume_traded': 236.9218504,\n",
       "  'trades_count': 13954},\n",
       " {'time_period_start': '2022-02-13T02:00:00.0000000Z',\n",
       "  'time_period_end': '2022-02-13T03:00:00.0000000Z',\n",
       "  'time_open': '2022-02-13T02:00:00.0212620Z',\n",
       "  'time_close': '2022-02-13T02:59:59.3855220Z',\n",
       "  'price_open': 42261.82,\n",
       "  'price_high': 42299.35,\n",
       "  'price_low': 42114.0,\n",
       "  'price_close': 42235.03,\n",
       "  'volume_traded': 292.94354388,\n",
       "  'trades_count': 14307},\n",
       " {'time_period_start': '2022-02-13T01:00:00.0000000Z',\n",
       "  'time_period_end': '2022-02-13T02:00:00.0000000Z',\n",
       "  'time_open': '2022-02-13T01:00:00.1621150Z',\n",
       "  'time_close': '2022-02-13T01:59:59.9860190Z',\n",
       "  'price_open': 42418.51,\n",
       "  'price_high': 42515.02,\n",
       "  'price_low': 42216.16,\n",
       "  'price_close': 42257.43,\n",
       "  'volume_traded': 280.10854476,\n",
       "  'trades_count': 14326},\n",
       " {'time_period_start': '2022-02-13T00:00:00.0000000Z',\n",
       "  'time_period_end': '2022-02-13T01:00:00.0000000Z',\n",
       "  'time_open': '2022-02-13T00:00:00.0254190Z',\n",
       "  'time_close': '2022-02-13T00:59:59.9479340Z',\n",
       "  'price_open': 42244.91,\n",
       "  'price_high': 42526.47,\n",
       "  'price_low': 42070.0,\n",
       "  'price_close': 42418.51,\n",
       "  'volume_traded': 492.86002368,\n",
       "  'trades_count': 19853},\n",
       " {'time_period_start': '2022-02-12T23:00:00.0000000Z',\n",
       "  'time_period_end': '2022-02-13T00:00:00.0000000Z',\n",
       "  'time_open': '2022-02-12T23:00:00.3334620Z',\n",
       "  'time_close': '2022-02-12T23:59:59.6818560Z',\n",
       "  'price_open': 42201.21,\n",
       "  'price_high': 42285.13,\n",
       "  'price_low': 42084.37,\n",
       "  'price_close': 42244.97,\n",
       "  'volume_traded': 331.12863123,\n",
       "  'trades_count': 16495},\n",
       " {'time_period_start': '2022-02-12T22:00:00.0000000Z',\n",
       "  'time_period_end': '2022-02-12T23:00:00.0000000Z',\n",
       "  'time_open': '2022-02-12T22:00:00.4566730Z',\n",
       "  'time_close': '2022-02-12T22:59:59.9115860Z',\n",
       "  'price_open': 41896.1,\n",
       "  'price_high': 42241.37,\n",
       "  'price_low': 41848.66,\n",
       "  'price_close': 42201.21,\n",
       "  'volume_traded': 469.95833686,\n",
       "  'trades_count': 20343},\n",
       " {'time_period_start': '2022-02-12T21:00:00.0000000Z',\n",
       "  'time_period_end': '2022-02-12T22:00:00.0000000Z',\n",
       "  'time_open': '2022-02-12T21:00:00.2728780Z',\n",
       "  'time_close': '2022-02-12T21:59:58.7130580Z',\n",
       "  'price_open': 42640.82,\n",
       "  'price_high': 42652.42,\n",
       "  'price_low': 41733.5,\n",
       "  'price_close': 41898.11,\n",
       "  'volume_traded': 1497.28297477,\n",
       "  'trades_count': 32037},\n",
       " {'time_period_start': '2022-02-12T20:00:00.0000000Z',\n",
       "  'time_period_end': '2022-02-12T21:00:00.0000000Z',\n",
       "  'time_open': '2022-02-12T20:00:00.0297620Z',\n",
       "  'time_close': '2022-02-12T20:59:59.9220000Z',\n",
       "  'price_open': 42675.72,\n",
       "  'price_high': 42788.43,\n",
       "  'price_low': 42489.65,\n",
       "  'price_close': 42634.0,\n",
       "  'volume_traded': 687.10639871,\n",
       "  'trades_count': 21362},\n",
       " {'time_period_start': '2022-02-12T19:00:00.0000000Z',\n",
       "  'time_period_end': '2022-02-12T20:00:00.0000000Z',\n",
       "  'time_open': '2022-02-12T19:00:00.2355730Z',\n",
       "  'time_close': '2022-02-12T19:59:59.6550000Z',\n",
       "  'price_open': 42849.54,\n",
       "  'price_high': 42912.03,\n",
       "  'price_low': 42618.91,\n",
       "  'price_close': 42675.12,\n",
       "  'volume_traded': 671.27241233,\n",
       "  'trades_count': 20357},\n",
       " {'time_period_start': '2022-02-12T18:00:00.0000000Z',\n",
       "  'time_period_end': '2022-02-12T19:00:00.0000000Z',\n",
       "  'time_open': '2022-02-12T18:00:00.8285490Z',\n",
       "  'time_close': '2022-02-12T18:59:59.8085430Z',\n",
       "  'price_open': 42753.15,\n",
       "  'price_high': 43055.0,\n",
       "  'price_low': 42748.7,\n",
       "  'price_close': 42849.55,\n",
       "  'volume_traded': 964.81172573,\n",
       "  'trades_count': 23784},\n",
       " {'time_period_start': '2022-02-12T17:00:00.0000000Z',\n",
       "  'time_period_end': '2022-02-12T18:00:00.0000000Z',\n",
       "  'time_open': '2022-02-12T17:00:00.1607790Z',\n",
       "  'time_close': '2022-02-12T17:59:59.7910200Z',\n",
       "  'price_open': 42757.5,\n",
       "  'price_high': 42837.95,\n",
       "  'price_low': 42577.51,\n",
       "  'price_close': 42753.14,\n",
       "  'volume_traded': 528.21194937,\n",
       "  'trades_count': 18780},\n",
       " {'time_period_start': '2022-02-12T16:00:00.0000000Z',\n",
       "  'time_period_end': '2022-02-12T17:00:00.0000000Z',\n",
       "  'time_open': '2022-02-12T16:00:00.1811940Z',\n",
       "  'time_close': '2022-02-12T16:59:59.6966930Z',\n",
       "  'price_open': 42133.84,\n",
       "  'price_high': 42849.87,\n",
       "  'price_low': 42003.41,\n",
       "  'price_close': 42751.52,\n",
       "  'volume_traded': 1270.30705718,\n",
       "  'trades_count': 32613},\n",
       " {'time_period_start': '2022-02-12T15:00:00.0000000Z',\n",
       "  'time_period_end': '2022-02-12T16:00:00.0000000Z',\n",
       "  'time_open': '2022-02-12T15:00:00.3994430Z',\n",
       "  'time_close': '2022-02-12T15:59:59.6744650Z',\n",
       "  'price_open': 42182.05,\n",
       "  'price_high': 42236.56,\n",
       "  'price_low': 41843.57,\n",
       "  'price_close': 42136.79,\n",
       "  'volume_traded': 603.20507726,\n",
       "  'trades_count': 22601},\n",
       " {'time_period_start': '2022-02-12T14:00:00.0000000Z',\n",
       "  'time_period_end': '2022-02-12T15:00:00.0000000Z',\n",
       "  'time_open': '2022-02-12T14:00:00.1786860Z',\n",
       "  'time_close': '2022-02-12T14:59:59.6840000Z',\n",
       "  'price_open': 42119.55,\n",
       "  'price_high': 42246.41,\n",
       "  'price_low': 41807.0,\n",
       "  'price_close': 42190.33,\n",
       "  'volume_traded': 715.75771839,\n",
       "  'trades_count': 23454},\n",
       " {'time_period_start': '2022-02-12T13:00:00.0000000Z',\n",
       "  'time_period_end': '2022-02-12T14:00:00.0000000Z',\n",
       "  'time_open': '2022-02-12T13:00:00.2430000Z',\n",
       "  'time_close': '2022-02-12T13:59:59.9952710Z',\n",
       "  'price_open': 42300.0,\n",
       "  'price_high': 42367.33,\n",
       "  'price_low': 42075.8,\n",
       "  'price_close': 42117.45,\n",
       "  'volume_traded': 328.04693536,\n",
       "  'trades_count': 14323},\n",
       " {'time_period_start': '2022-02-12T12:00:00.0000000Z',\n",
       "  'time_period_end': '2022-02-12T13:00:00.0000000Z',\n",
       "  'time_open': '2022-02-12T12:00:00.0860430Z',\n",
       "  'time_close': '2022-02-12T12:59:59.8556830Z',\n",
       "  'price_open': 42428.54,\n",
       "  'price_high': 42471.05,\n",
       "  'price_low': 42218.88,\n",
       "  'price_close': 42302.45,\n",
       "  'volume_traded': 295.85933707,\n",
       "  'trades_count': 12117}]"
      ]
     },
     "execution_count": 25,
     "metadata": {},
     "output_type": "execute_result"
    }
   ],
   "source": [
    "data = response.json()\n",
    "data"
   ]
  },
  {
   "cell_type": "code",
   "execution_count": 26,
   "metadata": {},
   "outputs": [
    {
     "data": {
      "text/html": [
       "<div>\n",
       "<style scoped>\n",
       "    .dataframe tbody tr th:only-of-type {\n",
       "        vertical-align: middle;\n",
       "    }\n",
       "\n",
       "    .dataframe tbody tr th {\n",
       "        vertical-align: top;\n",
       "    }\n",
       "\n",
       "    .dataframe thead th {\n",
       "        text-align: right;\n",
       "    }\n",
       "</style>\n",
       "<table border=\"1\" class=\"dataframe\">\n",
       "  <thead>\n",
       "    <tr style=\"text-align: right;\">\n",
       "      <th></th>\n",
       "      <th>time_period_start</th>\n",
       "      <th>time_period_end</th>\n",
       "      <th>time_open</th>\n",
       "      <th>time_close</th>\n",
       "      <th>price_open</th>\n",
       "      <th>price_high</th>\n",
       "      <th>price_low</th>\n",
       "      <th>price_close</th>\n",
       "      <th>volume_traded</th>\n",
       "      <th>trades_count</th>\n",
       "    </tr>\n",
       "  </thead>\n",
       "  <tbody>\n",
       "    <tr>\n",
       "      <th>0</th>\n",
       "      <td>2022-02-16T15:00:00.0000000Z</td>\n",
       "      <td>2022-02-16T16:00:00.0000000Z</td>\n",
       "      <td>2022-02-16T15:00:00.0620000Z</td>\n",
       "      <td>2022-02-16T15:15:40.9155180Z</td>\n",
       "      <td>43509.12</td>\n",
       "      <td>43692.79</td>\n",
       "      <td>43447.71</td>\n",
       "      <td>43577.54</td>\n",
       "      <td>301.273448</td>\n",
       "      <td>7927</td>\n",
       "    </tr>\n",
       "    <tr>\n",
       "      <th>1</th>\n",
       "      <td>2022-02-16T14:00:00.0000000Z</td>\n",
       "      <td>2022-02-16T15:00:00.0000000Z</td>\n",
       "      <td>2022-02-16T14:00:00.0464120Z</td>\n",
       "      <td>2022-02-16T14:59:59.5888750Z</td>\n",
       "      <td>43648.02</td>\n",
       "      <td>43759.50</td>\n",
       "      <td>43236.50</td>\n",
       "      <td>43505.94</td>\n",
       "      <td>1665.397106</td>\n",
       "      <td>31302</td>\n",
       "    </tr>\n",
       "    <tr>\n",
       "      <th>2</th>\n",
       "      <td>2022-02-16T13:00:00.0000000Z</td>\n",
       "      <td>2022-02-16T14:00:00.0000000Z</td>\n",
       "      <td>2022-02-16T13:00:00.4610600Z</td>\n",
       "      <td>2022-02-16T13:59:59.9567130Z</td>\n",
       "      <td>44061.56</td>\n",
       "      <td>44203.00</td>\n",
       "      <td>43540.20</td>\n",
       "      <td>43648.02</td>\n",
       "      <td>1280.637925</td>\n",
       "      <td>27668</td>\n",
       "    </tr>\n",
       "    <tr>\n",
       "      <th>3</th>\n",
       "      <td>2022-02-16T12:00:00.0000000Z</td>\n",
       "      <td>2022-02-16T13:00:00.0000000Z</td>\n",
       "      <td>2022-02-16T12:00:00.1047430Z</td>\n",
       "      <td>2022-02-16T12:59:58.8370000Z</td>\n",
       "      <td>44202.42</td>\n",
       "      <td>44250.00</td>\n",
       "      <td>43990.00</td>\n",
       "      <td>44056.80</td>\n",
       "      <td>515.406075</td>\n",
       "      <td>15302</td>\n",
       "    </tr>\n",
       "    <tr>\n",
       "      <th>4</th>\n",
       "      <td>2022-02-16T11:00:00.0000000Z</td>\n",
       "      <td>2022-02-16T12:00:00.0000000Z</td>\n",
       "      <td>2022-02-16T11:00:01.9521580Z</td>\n",
       "      <td>2022-02-16T11:59:59.6190000Z</td>\n",
       "      <td>44143.89</td>\n",
       "      <td>44301.13</td>\n",
       "      <td>44135.69</td>\n",
       "      <td>44213.54</td>\n",
       "      <td>496.530032</td>\n",
       "      <td>14635</td>\n",
       "    </tr>\n",
       "  </tbody>\n",
       "</table>\n",
       "</div>"
      ],
      "text/plain": [
       "              time_period_start               time_period_end  \\\n",
       "0  2022-02-16T15:00:00.0000000Z  2022-02-16T16:00:00.0000000Z   \n",
       "1  2022-02-16T14:00:00.0000000Z  2022-02-16T15:00:00.0000000Z   \n",
       "2  2022-02-16T13:00:00.0000000Z  2022-02-16T14:00:00.0000000Z   \n",
       "3  2022-02-16T12:00:00.0000000Z  2022-02-16T13:00:00.0000000Z   \n",
       "4  2022-02-16T11:00:00.0000000Z  2022-02-16T12:00:00.0000000Z   \n",
       "\n",
       "                      time_open                    time_close  price_open  \\\n",
       "0  2022-02-16T15:00:00.0620000Z  2022-02-16T15:15:40.9155180Z    43509.12   \n",
       "1  2022-02-16T14:00:00.0464120Z  2022-02-16T14:59:59.5888750Z    43648.02   \n",
       "2  2022-02-16T13:00:00.4610600Z  2022-02-16T13:59:59.9567130Z    44061.56   \n",
       "3  2022-02-16T12:00:00.1047430Z  2022-02-16T12:59:58.8370000Z    44202.42   \n",
       "4  2022-02-16T11:00:01.9521580Z  2022-02-16T11:59:59.6190000Z    44143.89   \n",
       "\n",
       "   price_high  price_low  price_close  volume_traded  trades_count  \n",
       "0    43692.79   43447.71     43577.54     301.273448          7927  \n",
       "1    43759.50   43236.50     43505.94    1665.397106         31302  \n",
       "2    44203.00   43540.20     43648.02    1280.637925         27668  \n",
       "3    44250.00   43990.00     44056.80     515.406075         15302  \n",
       "4    44301.13   44135.69     44213.54     496.530032         14635  "
      ]
     },
     "execution_count": 26,
     "metadata": {},
     "output_type": "execute_result"
    }
   ],
   "source": [
    "df = pd.DataFrame(data)\n",
    "df.head()"
   ]
  },
  {
   "cell_type": "markdown",
   "metadata": {},
   "source": [
    "# Price open"
   ]
  },
  {
   "cell_type": "code",
   "execution_count": 27,
   "metadata": {},
   "outputs": [
    {
     "data": {
      "text/plain": [
       "43509.12"
      ]
     },
     "execution_count": 27,
     "metadata": {},
     "output_type": "execute_result"
    }
   ],
   "source": [
    "df['price_open'][0]"
   ]
  },
  {
   "cell_type": "markdown",
   "metadata": {},
   "source": [
    "# Price close "
   ]
  },
  {
   "cell_type": "code",
   "execution_count": 28,
   "metadata": {},
   "outputs": [
    {
     "data": {
      "text/plain": [
       "43577.54"
      ]
     },
     "execution_count": 28,
     "metadata": {},
     "output_type": "execute_result"
    }
   ],
   "source": [
    "df['price_close'][0]"
   ]
  },
  {
   "cell_type": "markdown",
   "metadata": {},
   "source": [
    "# Price_High"
   ]
  },
  {
   "cell_type": "code",
   "execution_count": 29,
   "metadata": {},
   "outputs": [
    {
     "data": {
      "text/plain": [
       "43692.79"
      ]
     },
     "execution_count": 29,
     "metadata": {},
     "output_type": "execute_result"
    }
   ],
   "source": [
    "df['price_high'][0]"
   ]
  },
  {
   "cell_type": "markdown",
   "metadata": {},
   "source": [
    "# volume_traded"
   ]
  },
  {
   "cell_type": "code",
   "execution_count": 30,
   "metadata": {},
   "outputs": [
    {
     "data": {
      "text/plain": [
       "301.27344819"
      ]
     },
     "execution_count": 30,
     "metadata": {},
     "output_type": "execute_result"
    }
   ],
   "source": [
    "df['volume_traded'][0]"
   ]
  },
  {
   "cell_type": "code",
   "execution_count": null,
   "metadata": {},
   "outputs": [],
   "source": []
  },
  {
   "cell_type": "markdown",
   "metadata": {},
   "source": [
    "# Candlestick Charts in Python"
   ]
  },
  {
   "cell_type": "code",
   "execution_count": 32,
   "metadata": {},
   "outputs": [
    {
     "data": {
      "application/vnd.plotly.v1+json": {
       "config": {
        "plotlyServerURL": "https://plot.ly"
       },
       "data": [
        {
         "close": [
          43577.54,
          43505.94,
          43648.02,
          44056.8,
          44213.54,
          44143.9,
          44039.83,
          44182.57,
          44219.11,
          44056.88,
          44081.12,
          43920.74,
          44012.22,
          44106.3,
          44011.44,
          44225.7,
          44583.52,
          44199.47,
          43992.21,
          44172.23,
          44021.07,
          44156.6,
          43949.5,
          44146.36,
          44236.88,
          44280.65,
          44268.73,
          44205.42,
          44257.15,
          44304.4,
          44083.3,
          44015.33,
          43723.98,
          43572.49,
          43601.75,
          43483.28,
          43599.52,
          43592.01,
          43485.77,
          42595.15,
          42548.71,
          42693.32,
          42249.98,
          42206.9,
          42137.03,
          42241.72,
          42595.92,
          42672.95,
          42598.78,
          42530,
          42510.67,
          42559.56,
          42129.03,
          42245.52,
          42075.74,
          42045.38,
          42337.26,
          42202.27,
          41789.15,
          41973.39,
          41931.06,
          41711.17,
          41689.59,
          42134.51,
          42074.99,
          42399.1,
          42235.9,
          42463.19,
          42055.77,
          41999.79,
          42287.04,
          42332.64,
          42584.73,
          42544.6,
          42531.79,
          42498.88,
          42497.09,
          42594.62,
          42335.95,
          42471.11,
          42432.09,
          42444.98,
          42293.1,
          42225.8,
          42243.08,
          42235.03,
          42257.43,
          42418.51,
          42244.97,
          42201.21,
          41898.11,
          42634,
          42675.12,
          42849.55,
          42753.14,
          42751.52,
          42136.79,
          42190.33,
          42117.45,
          42302.45
         ],
         "high": [
          43692.79,
          43759.5,
          44203,
          44250,
          44301.13,
          44164.66,
          44272.05,
          44372.5,
          44242,
          44228.96,
          44172.4,
          44016.89,
          44199.79,
          44110.88,
          44233.6,
          44590.75,
          44785.66,
          44400,
          44204.5,
          44201.78,
          44171.63,
          44237.26,
          44192.79,
          44289.46,
          44328.8,
          44543.9,
          44357.49,
          44393.83,
          44476.21,
          44417.51,
          44135.86,
          44193.845,
          43809.5,
          43740,
          43647.96,
          43813.89,
          43692.29,
          43718.07,
          43649.99,
          42697.25,
          42838.9,
          42800,
          42314.74,
          42344.69,
          42313.18,
          42689.92,
          42829.5,
          42858,
          42686.36,
          42876.15,
          42708.58,
          42632,
          42297.7,
          42309.5,
          42248,
          42461.5,
          42388.11,
          42382.64,
          42028.13,
          41993.85,
          41990.78,
          41856.24,
          42167.31,
          42247.7,
          42421,
          42446.5,
          42543.6,
          42468.13,
          42210.64,
          42422.65,
          42334.79,
          42616.614,
          42784,
          42738.8,
          42603.92,
          42650,
          42674.96,
          42663.69,
          42489.06,
          42524.16,
          42488,
          42462.16,
          42340.7,
          42362.53,
          42323.43,
          42299.35,
          42515.02,
          42526.47,
          42285.13,
          42241.37,
          42652.42,
          42788.43,
          42912.03,
          43055,
          42837.95,
          42849.87,
          42236.56,
          42246.41,
          42367.33,
          42471.05
         ],
         "low": [
          43447.71,
          43236.5,
          43540.2,
          43990,
          44135.69,
          43897,
          44000.01,
          44155.98,
          43959.84,
          44045,
          43913,
          43677.79,
          43982.68,
          43923.05,
          43956,
          44151.97,
          44112,
          43987.01,
          43948.04,
          43986,
          43976.5,
          43887,
          43864.89,
          44029.22,
          44127.76,
          44204.76,
          44021.3,
          44158.25,
          44129,
          43994.23,
          43866.5,
          43626.5,
          43541.37,
          43552.63,
          43383,
          43474.02,
          43521.4,
          43412.38,
          42533.88,
          42428,
          42533.41,
          42242.36,
          42112.98,
          42002.72,
          41800,
          42209.64,
          42506.04,
          42563.58,
          42340.49,
          42482.8,
          42395.23,
          41961.66,
          42084.35,
          41927.18,
          41947.21,
          42010.37,
          42124.31,
          41743.87,
          41761.5,
          41844.42,
          41621,
          41617.6,
          41554.626,
          41948.37,
          42025.882,
          42219.5,
          42215,
          41950.06,
          41887,
          41882.54,
          42086.53,
          42217.71,
          42514.5,
          42193.02,
          42416.94,
          42438.09,
          42477.2,
          42270.09,
          42296.29,
          42349.57,
          42313.91,
          42235.73,
          42141.35,
          42131.92,
          42167.31,
          42114,
          42216.16,
          42070,
          42084.37,
          41848.66,
          41733.5,
          42489.65,
          42618.91,
          42748.7,
          42577.51,
          42003.41,
          41843.57,
          41807,
          42075.8,
          42218.88
         ],
         "open": [
          43509.12,
          43648.02,
          44061.56,
          44202.42,
          44143.89,
          44037.56,
          44182.57,
          44219.12,
          44058.08,
          44081.12,
          43926.7,
          44012.22,
          44103.13,
          44011.44,
          44233.6,
          44580.73,
          44199.47,
          43992.21,
          44167.12,
          44021.06,
          44155.51,
          43947.92,
          44146.36,
          44236.88,
          44280.65,
          44282.7,
          44205.42,
          44257.14,
          44302.64,
          44080.64,
          44012.91,
          43723.97,
          43571.5,
          43601.75,
          43483.3,
          43599.52,
          43594.18,
          43485.76,
          42595.14,
          42548.71,
          42696.67,
          42252.86,
          42198.55,
          42137.03,
          42245.28,
          42596.55,
          42672.96,
          42601.1,
          42530,
          42510.91,
          42564.37,
          42119.28,
          42238.54,
          42085.49,
          42042.26,
          42337.26,
          42202.28,
          41789.15,
          41974.6,
          41930.36,
          41711.16,
          41686.85,
          42132.91,
          42073.37,
          42394.66,
          42226.89,
          42464.63,
          42055.77,
          41999.79,
          42285.27,
          42332.65,
          42592.82,
          42551.17,
          42531.8,
          42498.88,
          42497.08,
          42610.1,
          42335.95,
          42471.1,
          42432.09,
          42444.98,
          42293.1,
          42224.11,
          42243.08,
          42235.03,
          42261.82,
          42418.51,
          42244.91,
          42201.21,
          41896.1,
          42640.82,
          42675.72,
          42849.54,
          42753.15,
          42757.5,
          42133.84,
          42182.05,
          42119.55,
          42300,
          42428.54
         ],
         "type": "candlestick",
         "x": [
          "2022-02-16T15:00:00.0000000Z",
          "2022-02-16T14:00:00.0000000Z",
          "2022-02-16T13:00:00.0000000Z",
          "2022-02-16T12:00:00.0000000Z",
          "2022-02-16T11:00:00.0000000Z",
          "2022-02-16T10:00:00.0000000Z",
          "2022-02-16T09:00:00.0000000Z",
          "2022-02-16T08:00:00.0000000Z",
          "2022-02-16T07:00:00.0000000Z",
          "2022-02-16T06:00:00.0000000Z",
          "2022-02-16T05:00:00.0000000Z",
          "2022-02-16T04:00:00.0000000Z",
          "2022-02-16T03:00:00.0000000Z",
          "2022-02-16T02:00:00.0000000Z",
          "2022-02-16T01:00:00.0000000Z",
          "2022-02-16T00:00:00.0000000Z",
          "2022-02-15T23:00:00.0000000Z",
          "2022-02-15T22:00:00.0000000Z",
          "2022-02-15T21:00:00.0000000Z",
          "2022-02-15T20:00:00.0000000Z",
          "2022-02-15T19:00:00.0000000Z",
          "2022-02-15T18:00:00.0000000Z",
          "2022-02-15T17:00:00.0000000Z",
          "2022-02-15T16:00:00.0000000Z",
          "2022-02-15T15:00:00.0000000Z",
          "2022-02-15T14:00:00.0000000Z",
          "2022-02-15T13:00:00.0000000Z",
          "2022-02-15T12:00:00.0000000Z",
          "2022-02-15T11:00:00.0000000Z",
          "2022-02-15T10:00:00.0000000Z",
          "2022-02-15T09:00:00.0000000Z",
          "2022-02-15T08:00:00.0000000Z",
          "2022-02-15T07:00:00.0000000Z",
          "2022-02-15T06:00:00.0000000Z",
          "2022-02-15T05:00:00.0000000Z",
          "2022-02-15T04:00:00.0000000Z",
          "2022-02-15T03:00:00.0000000Z",
          "2022-02-15T02:00:00.0000000Z",
          "2022-02-15T01:00:00.0000000Z",
          "2022-02-15T00:00:00.0000000Z",
          "2022-02-14T23:00:00.0000000Z",
          "2022-02-14T22:00:00.0000000Z",
          "2022-02-14T21:00:00.0000000Z",
          "2022-02-14T20:00:00.0000000Z",
          "2022-02-14T19:00:00.0000000Z",
          "2022-02-14T18:00:00.0000000Z",
          "2022-02-14T17:00:00.0000000Z",
          "2022-02-14T16:00:00.0000000Z",
          "2022-02-14T15:00:00.0000000Z",
          "2022-02-14T14:00:00.0000000Z",
          "2022-02-14T13:00:00.0000000Z",
          "2022-02-14T12:00:00.0000000Z",
          "2022-02-14T11:00:00.0000000Z",
          "2022-02-14T10:00:00.0000000Z",
          "2022-02-14T09:00:00.0000000Z",
          "2022-02-14T08:00:00.0000000Z",
          "2022-02-14T07:00:00.0000000Z",
          "2022-02-14T06:00:00.0000000Z",
          "2022-02-14T05:00:00.0000000Z",
          "2022-02-14T04:00:00.0000000Z",
          "2022-02-14T03:00:00.0000000Z",
          "2022-02-14T02:00:00.0000000Z",
          "2022-02-14T01:00:00.0000000Z",
          "2022-02-14T00:00:00.0000000Z",
          "2022-02-13T23:00:00.0000000Z",
          "2022-02-13T22:00:00.0000000Z",
          "2022-02-13T21:00:00.0000000Z",
          "2022-02-13T20:00:00.0000000Z",
          "2022-02-13T19:00:00.0000000Z",
          "2022-02-13T18:00:00.0000000Z",
          "2022-02-13T17:00:00.0000000Z",
          "2022-02-13T16:00:00.0000000Z",
          "2022-02-13T15:00:00.0000000Z",
          "2022-02-13T14:00:00.0000000Z",
          "2022-02-13T13:00:00.0000000Z",
          "2022-02-13T12:00:00.0000000Z",
          "2022-02-13T11:00:00.0000000Z",
          "2022-02-13T10:00:00.0000000Z",
          "2022-02-13T09:00:00.0000000Z",
          "2022-02-13T08:00:00.0000000Z",
          "2022-02-13T07:00:00.0000000Z",
          "2022-02-13T06:00:00.0000000Z",
          "2022-02-13T05:00:00.0000000Z",
          "2022-02-13T04:00:00.0000000Z",
          "2022-02-13T03:00:00.0000000Z",
          "2022-02-13T02:00:00.0000000Z",
          "2022-02-13T01:00:00.0000000Z",
          "2022-02-13T00:00:00.0000000Z",
          "2022-02-12T23:00:00.0000000Z",
          "2022-02-12T22:00:00.0000000Z",
          "2022-02-12T21:00:00.0000000Z",
          "2022-02-12T20:00:00.0000000Z",
          "2022-02-12T19:00:00.0000000Z",
          "2022-02-12T18:00:00.0000000Z",
          "2022-02-12T17:00:00.0000000Z",
          "2022-02-12T16:00:00.0000000Z",
          "2022-02-12T15:00:00.0000000Z",
          "2022-02-12T14:00:00.0000000Z",
          "2022-02-12T13:00:00.0000000Z",
          "2022-02-12T12:00:00.0000000Z"
         ]
        }
       ],
       "layout": {
        "autosize": true,
        "colorway": [
         "#5E0DAC",
         "#FF4F00",
         "#375CB1",
         "#FF7400",
         "#FFF400",
         "#FF0056"
        ],
        "hovermode": "x",
        "margin": {
         "b": 15
        },
        "paper_bgcolor": "rgba(0, 0, 0, 0)",
        "plot_bgcolor": "rgba(0, 0, 0, 0)",
        "template": {
         "data": {
          "bar": [
           {
            "error_x": {
             "color": "#f2f5fa"
            },
            "error_y": {
             "color": "#f2f5fa"
            },
            "marker": {
             "line": {
              "color": "rgb(17,17,17)",
              "width": 0.5
             },
             "pattern": {
              "fillmode": "overlay",
              "size": 10,
              "solidity": 0.2
             }
            },
            "type": "bar"
           }
          ],
          "barpolar": [
           {
            "marker": {
             "line": {
              "color": "rgb(17,17,17)",
              "width": 0.5
             },
             "pattern": {
              "fillmode": "overlay",
              "size": 10,
              "solidity": 0.2
             }
            },
            "type": "barpolar"
           }
          ],
          "carpet": [
           {
            "aaxis": {
             "endlinecolor": "#A2B1C6",
             "gridcolor": "#506784",
             "linecolor": "#506784",
             "minorgridcolor": "#506784",
             "startlinecolor": "#A2B1C6"
            },
            "baxis": {
             "endlinecolor": "#A2B1C6",
             "gridcolor": "#506784",
             "linecolor": "#506784",
             "minorgridcolor": "#506784",
             "startlinecolor": "#A2B1C6"
            },
            "type": "carpet"
           }
          ],
          "choropleth": [
           {
            "colorbar": {
             "outlinewidth": 0,
             "ticks": ""
            },
            "type": "choropleth"
           }
          ],
          "contour": [
           {
            "colorbar": {
             "outlinewidth": 0,
             "ticks": ""
            },
            "colorscale": [
             [
              0,
              "#0d0887"
             ],
             [
              0.1111111111111111,
              "#46039f"
             ],
             [
              0.2222222222222222,
              "#7201a8"
             ],
             [
              0.3333333333333333,
              "#9c179e"
             ],
             [
              0.4444444444444444,
              "#bd3786"
             ],
             [
              0.5555555555555556,
              "#d8576b"
             ],
             [
              0.6666666666666666,
              "#ed7953"
             ],
             [
              0.7777777777777778,
              "#fb9f3a"
             ],
             [
              0.8888888888888888,
              "#fdca26"
             ],
             [
              1,
              "#f0f921"
             ]
            ],
            "type": "contour"
           }
          ],
          "contourcarpet": [
           {
            "colorbar": {
             "outlinewidth": 0,
             "ticks": ""
            },
            "type": "contourcarpet"
           }
          ],
          "heatmap": [
           {
            "colorbar": {
             "outlinewidth": 0,
             "ticks": ""
            },
            "colorscale": [
             [
              0,
              "#0d0887"
             ],
             [
              0.1111111111111111,
              "#46039f"
             ],
             [
              0.2222222222222222,
              "#7201a8"
             ],
             [
              0.3333333333333333,
              "#9c179e"
             ],
             [
              0.4444444444444444,
              "#bd3786"
             ],
             [
              0.5555555555555556,
              "#d8576b"
             ],
             [
              0.6666666666666666,
              "#ed7953"
             ],
             [
              0.7777777777777778,
              "#fb9f3a"
             ],
             [
              0.8888888888888888,
              "#fdca26"
             ],
             [
              1,
              "#f0f921"
             ]
            ],
            "type": "heatmap"
           }
          ],
          "heatmapgl": [
           {
            "colorbar": {
             "outlinewidth": 0,
             "ticks": ""
            },
            "colorscale": [
             [
              0,
              "#0d0887"
             ],
             [
              0.1111111111111111,
              "#46039f"
             ],
             [
              0.2222222222222222,
              "#7201a8"
             ],
             [
              0.3333333333333333,
              "#9c179e"
             ],
             [
              0.4444444444444444,
              "#bd3786"
             ],
             [
              0.5555555555555556,
              "#d8576b"
             ],
             [
              0.6666666666666666,
              "#ed7953"
             ],
             [
              0.7777777777777778,
              "#fb9f3a"
             ],
             [
              0.8888888888888888,
              "#fdca26"
             ],
             [
              1,
              "#f0f921"
             ]
            ],
            "type": "heatmapgl"
           }
          ],
          "histogram": [
           {
            "marker": {
             "pattern": {
              "fillmode": "overlay",
              "size": 10,
              "solidity": 0.2
             }
            },
            "type": "histogram"
           }
          ],
          "histogram2d": [
           {
            "colorbar": {
             "outlinewidth": 0,
             "ticks": ""
            },
            "colorscale": [
             [
              0,
              "#0d0887"
             ],
             [
              0.1111111111111111,
              "#46039f"
             ],
             [
              0.2222222222222222,
              "#7201a8"
             ],
             [
              0.3333333333333333,
              "#9c179e"
             ],
             [
              0.4444444444444444,
              "#bd3786"
             ],
             [
              0.5555555555555556,
              "#d8576b"
             ],
             [
              0.6666666666666666,
              "#ed7953"
             ],
             [
              0.7777777777777778,
              "#fb9f3a"
             ],
             [
              0.8888888888888888,
              "#fdca26"
             ],
             [
              1,
              "#f0f921"
             ]
            ],
            "type": "histogram2d"
           }
          ],
          "histogram2dcontour": [
           {
            "colorbar": {
             "outlinewidth": 0,
             "ticks": ""
            },
            "colorscale": [
             [
              0,
              "#0d0887"
             ],
             [
              0.1111111111111111,
              "#46039f"
             ],
             [
              0.2222222222222222,
              "#7201a8"
             ],
             [
              0.3333333333333333,
              "#9c179e"
             ],
             [
              0.4444444444444444,
              "#bd3786"
             ],
             [
              0.5555555555555556,
              "#d8576b"
             ],
             [
              0.6666666666666666,
              "#ed7953"
             ],
             [
              0.7777777777777778,
              "#fb9f3a"
             ],
             [
              0.8888888888888888,
              "#fdca26"
             ],
             [
              1,
              "#f0f921"
             ]
            ],
            "type": "histogram2dcontour"
           }
          ],
          "mesh3d": [
           {
            "colorbar": {
             "outlinewidth": 0,
             "ticks": ""
            },
            "type": "mesh3d"
           }
          ],
          "parcoords": [
           {
            "line": {
             "colorbar": {
              "outlinewidth": 0,
              "ticks": ""
             }
            },
            "type": "parcoords"
           }
          ],
          "pie": [
           {
            "automargin": true,
            "type": "pie"
           }
          ],
          "scatter": [
           {
            "marker": {
             "line": {
              "color": "#283442"
             }
            },
            "type": "scatter"
           }
          ],
          "scatter3d": [
           {
            "line": {
             "colorbar": {
              "outlinewidth": 0,
              "ticks": ""
             }
            },
            "marker": {
             "colorbar": {
              "outlinewidth": 0,
              "ticks": ""
             }
            },
            "type": "scatter3d"
           }
          ],
          "scattercarpet": [
           {
            "marker": {
             "colorbar": {
              "outlinewidth": 0,
              "ticks": ""
             }
            },
            "type": "scattercarpet"
           }
          ],
          "scattergeo": [
           {
            "marker": {
             "colorbar": {
              "outlinewidth": 0,
              "ticks": ""
             }
            },
            "type": "scattergeo"
           }
          ],
          "scattergl": [
           {
            "marker": {
             "line": {
              "color": "#283442"
             }
            },
            "type": "scattergl"
           }
          ],
          "scattermapbox": [
           {
            "marker": {
             "colorbar": {
              "outlinewidth": 0,
              "ticks": ""
             }
            },
            "type": "scattermapbox"
           }
          ],
          "scatterpolar": [
           {
            "marker": {
             "colorbar": {
              "outlinewidth": 0,
              "ticks": ""
             }
            },
            "type": "scatterpolar"
           }
          ],
          "scatterpolargl": [
           {
            "marker": {
             "colorbar": {
              "outlinewidth": 0,
              "ticks": ""
             }
            },
            "type": "scatterpolargl"
           }
          ],
          "scatterternary": [
           {
            "marker": {
             "colorbar": {
              "outlinewidth": 0,
              "ticks": ""
             }
            },
            "type": "scatterternary"
           }
          ],
          "surface": [
           {
            "colorbar": {
             "outlinewidth": 0,
             "ticks": ""
            },
            "colorscale": [
             [
              0,
              "#0d0887"
             ],
             [
              0.1111111111111111,
              "#46039f"
             ],
             [
              0.2222222222222222,
              "#7201a8"
             ],
             [
              0.3333333333333333,
              "#9c179e"
             ],
             [
              0.4444444444444444,
              "#bd3786"
             ],
             [
              0.5555555555555556,
              "#d8576b"
             ],
             [
              0.6666666666666666,
              "#ed7953"
             ],
             [
              0.7777777777777778,
              "#fb9f3a"
             ],
             [
              0.8888888888888888,
              "#fdca26"
             ],
             [
              1,
              "#f0f921"
             ]
            ],
            "type": "surface"
           }
          ],
          "table": [
           {
            "cells": {
             "fill": {
              "color": "#506784"
             },
             "line": {
              "color": "rgb(17,17,17)"
             }
            },
            "header": {
             "fill": {
              "color": "#2a3f5f"
             },
             "line": {
              "color": "rgb(17,17,17)"
             }
            },
            "type": "table"
           }
          ]
         },
         "layout": {
          "annotationdefaults": {
           "arrowcolor": "#f2f5fa",
           "arrowhead": 0,
           "arrowwidth": 1
          },
          "autotypenumbers": "strict",
          "coloraxis": {
           "colorbar": {
            "outlinewidth": 0,
            "ticks": ""
           }
          },
          "colorscale": {
           "diverging": [
            [
             0,
             "#8e0152"
            ],
            [
             0.1,
             "#c51b7d"
            ],
            [
             0.2,
             "#de77ae"
            ],
            [
             0.3,
             "#f1b6da"
            ],
            [
             0.4,
             "#fde0ef"
            ],
            [
             0.5,
             "#f7f7f7"
            ],
            [
             0.6,
             "#e6f5d0"
            ],
            [
             0.7,
             "#b8e186"
            ],
            [
             0.8,
             "#7fbc41"
            ],
            [
             0.9,
             "#4d9221"
            ],
            [
             1,
             "#276419"
            ]
           ],
           "sequential": [
            [
             0,
             "#0d0887"
            ],
            [
             0.1111111111111111,
             "#46039f"
            ],
            [
             0.2222222222222222,
             "#7201a8"
            ],
            [
             0.3333333333333333,
             "#9c179e"
            ],
            [
             0.4444444444444444,
             "#bd3786"
            ],
            [
             0.5555555555555556,
             "#d8576b"
            ],
            [
             0.6666666666666666,
             "#ed7953"
            ],
            [
             0.7777777777777778,
             "#fb9f3a"
            ],
            [
             0.8888888888888888,
             "#fdca26"
            ],
            [
             1,
             "#f0f921"
            ]
           ],
           "sequentialminus": [
            [
             0,
             "#0d0887"
            ],
            [
             0.1111111111111111,
             "#46039f"
            ],
            [
             0.2222222222222222,
             "#7201a8"
            ],
            [
             0.3333333333333333,
             "#9c179e"
            ],
            [
             0.4444444444444444,
             "#bd3786"
            ],
            [
             0.5555555555555556,
             "#d8576b"
            ],
            [
             0.6666666666666666,
             "#ed7953"
            ],
            [
             0.7777777777777778,
             "#fb9f3a"
            ],
            [
             0.8888888888888888,
             "#fdca26"
            ],
            [
             1,
             "#f0f921"
            ]
           ]
          },
          "colorway": [
           "#636efa",
           "#EF553B",
           "#00cc96",
           "#ab63fa",
           "#FFA15A",
           "#19d3f3",
           "#FF6692",
           "#B6E880",
           "#FF97FF",
           "#FECB52"
          ],
          "font": {
           "color": "#f2f5fa"
          },
          "geo": {
           "bgcolor": "rgb(17,17,17)",
           "lakecolor": "rgb(17,17,17)",
           "landcolor": "rgb(17,17,17)",
           "showlakes": true,
           "showland": true,
           "subunitcolor": "#506784"
          },
          "hoverlabel": {
           "align": "left"
          },
          "hovermode": "closest",
          "mapbox": {
           "style": "dark"
          },
          "paper_bgcolor": "rgb(17,17,17)",
          "plot_bgcolor": "rgb(17,17,17)",
          "polar": {
           "angularaxis": {
            "gridcolor": "#506784",
            "linecolor": "#506784",
            "ticks": ""
           },
           "bgcolor": "rgb(17,17,17)",
           "radialaxis": {
            "gridcolor": "#506784",
            "linecolor": "#506784",
            "ticks": ""
           }
          },
          "scene": {
           "xaxis": {
            "backgroundcolor": "rgb(17,17,17)",
            "gridcolor": "#506784",
            "gridwidth": 2,
            "linecolor": "#506784",
            "showbackground": true,
            "ticks": "",
            "zerolinecolor": "#C8D4E3"
           },
           "yaxis": {
            "backgroundcolor": "rgb(17,17,17)",
            "gridcolor": "#506784",
            "gridwidth": 2,
            "linecolor": "#506784",
            "showbackground": true,
            "ticks": "",
            "zerolinecolor": "#C8D4E3"
           },
           "zaxis": {
            "backgroundcolor": "rgb(17,17,17)",
            "gridcolor": "#506784",
            "gridwidth": 2,
            "linecolor": "#506784",
            "showbackground": true,
            "ticks": "",
            "zerolinecolor": "#C8D4E3"
           }
          },
          "shapedefaults": {
           "line": {
            "color": "#f2f5fa"
           }
          },
          "sliderdefaults": {
           "bgcolor": "#C8D4E3",
           "bordercolor": "rgb(17,17,17)",
           "borderwidth": 1,
           "tickwidth": 0
          },
          "ternary": {
           "aaxis": {
            "gridcolor": "#506784",
            "linecolor": "#506784",
            "ticks": ""
           },
           "baxis": {
            "gridcolor": "#506784",
            "linecolor": "#506784",
            "ticks": ""
           },
           "bgcolor": "rgb(17,17,17)",
           "caxis": {
            "gridcolor": "#506784",
            "linecolor": "#506784",
            "ticks": ""
           }
          },
          "title": {
           "x": 0.05
          },
          "updatemenudefaults": {
           "bgcolor": "#506784",
           "borderwidth": 0
          },
          "xaxis": {
           "automargin": true,
           "gridcolor": "#283442",
           "linecolor": "#506784",
           "ticks": "",
           "title": {
            "standoff": 15
           },
           "zerolinecolor": "#283442",
           "zerolinewidth": 2
          },
          "yaxis": {
           "automargin": true,
           "gridcolor": "#283442",
           "linecolor": "#506784",
           "ticks": "",
           "title": {
            "standoff": 15
           },
           "zerolinecolor": "#283442",
           "zerolinewidth": 2
          }
         }
        },
        "title": {
         "font": {
          "color": "white"
         },
         "text": "Cryptocurrency Prices",
         "x": 0.5
        }
       }
      },
      "text/html": [
       "<div>                            <div id=\"f0937553-9f58-409b-b599-8b51d03ead6a\" class=\"plotly-graph-div\" style=\"height:525px; width:100%;\"></div>            <script type=\"text/javascript\">                require([\"plotly\"], function(Plotly) {                    window.PLOTLYENV=window.PLOTLYENV || {};                                    if (document.getElementById(\"f0937553-9f58-409b-b599-8b51d03ead6a\")) {                    Plotly.newPlot(                        \"f0937553-9f58-409b-b599-8b51d03ead6a\",                        [{\"close\":[43577.54,43505.94,43648.02,44056.8,44213.54,44143.9,44039.83,44182.57,44219.11,44056.88,44081.12,43920.74,44012.22,44106.3,44011.44,44225.7,44583.52,44199.47,43992.21,44172.23,44021.07,44156.6,43949.5,44146.36,44236.88,44280.65,44268.73,44205.42,44257.15,44304.4,44083.3,44015.33,43723.98,43572.49,43601.75,43483.28,43599.52,43592.01,43485.77,42595.15,42548.71,42693.32,42249.98,42206.9,42137.03,42241.72,42595.92,42672.95,42598.78,42530.0,42510.67,42559.56,42129.03,42245.52,42075.74,42045.38,42337.26,42202.27,41789.15,41973.39,41931.06,41711.17,41689.59,42134.51,42074.99,42399.1,42235.9,42463.19,42055.77,41999.79,42287.04,42332.64,42584.73,42544.6,42531.79,42498.88,42497.09,42594.62,42335.95,42471.11,42432.09,42444.98,42293.1,42225.8,42243.08,42235.03,42257.43,42418.51,42244.97,42201.21,41898.11,42634.0,42675.12,42849.55,42753.14,42751.52,42136.79,42190.33,42117.45,42302.45],\"high\":[43692.79,43759.5,44203.0,44250.0,44301.13,44164.66,44272.05,44372.5,44242.0,44228.96,44172.4,44016.89,44199.79,44110.88,44233.6,44590.75,44785.66,44400.0,44204.5,44201.78,44171.63,44237.26,44192.79,44289.46,44328.8,44543.9,44357.49,44393.83,44476.21,44417.51,44135.86,44193.845,43809.5,43740.0,43647.96,43813.89,43692.29,43718.07,43649.99,42697.25,42838.9,42800.0,42314.74,42344.69,42313.18,42689.92,42829.5,42858.0,42686.36,42876.15,42708.58,42632.0,42297.7,42309.5,42248.0,42461.5,42388.11,42382.64,42028.13,41993.85,41990.78,41856.24,42167.31,42247.7,42421.0,42446.5,42543.6,42468.13,42210.64,42422.65,42334.79,42616.614,42784.0,42738.8,42603.92,42650.0,42674.96,42663.69,42489.06,42524.16,42488.0,42462.16,42340.7,42362.53,42323.43,42299.35,42515.02,42526.47,42285.13,42241.37,42652.42,42788.43,42912.03,43055.0,42837.95,42849.87,42236.56,42246.41,42367.33,42471.05],\"low\":[43447.71,43236.5,43540.2,43990.0,44135.69,43897.0,44000.01,44155.98,43959.84,44045.0,43913.0,43677.79,43982.68,43923.05,43956.0,44151.97,44112.0,43987.01,43948.04,43986.0,43976.5,43887.0,43864.89,44029.22,44127.76,44204.76,44021.3,44158.25,44129.0,43994.23,43866.5,43626.5,43541.37,43552.63,43383.0,43474.02,43521.4,43412.38,42533.88,42428.0,42533.41,42242.36,42112.98,42002.72,41800.0,42209.64,42506.04,42563.58,42340.49,42482.8,42395.23,41961.66,42084.35,41927.18,41947.21,42010.37,42124.31,41743.87,41761.5,41844.42,41621.0,41617.6,41554.626,41948.37,42025.882,42219.5,42215.0,41950.06,41887.0,41882.54,42086.53,42217.71,42514.5,42193.02,42416.94,42438.09,42477.2,42270.09,42296.29,42349.57,42313.91,42235.73,42141.35,42131.92,42167.31,42114.0,42216.16,42070.0,42084.37,41848.66,41733.5,42489.65,42618.91,42748.7,42577.51,42003.41,41843.57,41807.0,42075.8,42218.88],\"open\":[43509.12,43648.02,44061.56,44202.42,44143.89,44037.56,44182.57,44219.12,44058.08,44081.12,43926.7,44012.22,44103.13,44011.44,44233.6,44580.73,44199.47,43992.21,44167.12,44021.06,44155.51,43947.92,44146.36,44236.88,44280.65,44282.7,44205.42,44257.14,44302.64,44080.64,44012.91,43723.97,43571.5,43601.75,43483.3,43599.52,43594.18,43485.76,42595.14,42548.71,42696.67,42252.86,42198.55,42137.03,42245.28,42596.55,42672.96,42601.1,42530.0,42510.91,42564.37,42119.28,42238.54,42085.49,42042.26,42337.26,42202.28,41789.15,41974.6,41930.36,41711.16,41686.85,42132.91,42073.37,42394.66,42226.89,42464.63,42055.77,41999.79,42285.27,42332.65,42592.82,42551.17,42531.8,42498.88,42497.08,42610.1,42335.95,42471.1,42432.09,42444.98,42293.1,42224.11,42243.08,42235.03,42261.82,42418.51,42244.91,42201.21,41896.1,42640.82,42675.72,42849.54,42753.15,42757.5,42133.84,42182.05,42119.55,42300.0,42428.54],\"type\":\"candlestick\",\"x\":[\"2022-02-16T15:00:00.0000000Z\",\"2022-02-16T14:00:00.0000000Z\",\"2022-02-16T13:00:00.0000000Z\",\"2022-02-16T12:00:00.0000000Z\",\"2022-02-16T11:00:00.0000000Z\",\"2022-02-16T10:00:00.0000000Z\",\"2022-02-16T09:00:00.0000000Z\",\"2022-02-16T08:00:00.0000000Z\",\"2022-02-16T07:00:00.0000000Z\",\"2022-02-16T06:00:00.0000000Z\",\"2022-02-16T05:00:00.0000000Z\",\"2022-02-16T04:00:00.0000000Z\",\"2022-02-16T03:00:00.0000000Z\",\"2022-02-16T02:00:00.0000000Z\",\"2022-02-16T01:00:00.0000000Z\",\"2022-02-16T00:00:00.0000000Z\",\"2022-02-15T23:00:00.0000000Z\",\"2022-02-15T22:00:00.0000000Z\",\"2022-02-15T21:00:00.0000000Z\",\"2022-02-15T20:00:00.0000000Z\",\"2022-02-15T19:00:00.0000000Z\",\"2022-02-15T18:00:00.0000000Z\",\"2022-02-15T17:00:00.0000000Z\",\"2022-02-15T16:00:00.0000000Z\",\"2022-02-15T15:00:00.0000000Z\",\"2022-02-15T14:00:00.0000000Z\",\"2022-02-15T13:00:00.0000000Z\",\"2022-02-15T12:00:00.0000000Z\",\"2022-02-15T11:00:00.0000000Z\",\"2022-02-15T10:00:00.0000000Z\",\"2022-02-15T09:00:00.0000000Z\",\"2022-02-15T08:00:00.0000000Z\",\"2022-02-15T07:00:00.0000000Z\",\"2022-02-15T06:00:00.0000000Z\",\"2022-02-15T05:00:00.0000000Z\",\"2022-02-15T04:00:00.0000000Z\",\"2022-02-15T03:00:00.0000000Z\",\"2022-02-15T02:00:00.0000000Z\",\"2022-02-15T01:00:00.0000000Z\",\"2022-02-15T00:00:00.0000000Z\",\"2022-02-14T23:00:00.0000000Z\",\"2022-02-14T22:00:00.0000000Z\",\"2022-02-14T21:00:00.0000000Z\",\"2022-02-14T20:00:00.0000000Z\",\"2022-02-14T19:00:00.0000000Z\",\"2022-02-14T18:00:00.0000000Z\",\"2022-02-14T17:00:00.0000000Z\",\"2022-02-14T16:00:00.0000000Z\",\"2022-02-14T15:00:00.0000000Z\",\"2022-02-14T14:00:00.0000000Z\",\"2022-02-14T13:00:00.0000000Z\",\"2022-02-14T12:00:00.0000000Z\",\"2022-02-14T11:00:00.0000000Z\",\"2022-02-14T10:00:00.0000000Z\",\"2022-02-14T09:00:00.0000000Z\",\"2022-02-14T08:00:00.0000000Z\",\"2022-02-14T07:00:00.0000000Z\",\"2022-02-14T06:00:00.0000000Z\",\"2022-02-14T05:00:00.0000000Z\",\"2022-02-14T04:00:00.0000000Z\",\"2022-02-14T03:00:00.0000000Z\",\"2022-02-14T02:00:00.0000000Z\",\"2022-02-14T01:00:00.0000000Z\",\"2022-02-14T00:00:00.0000000Z\",\"2022-02-13T23:00:00.0000000Z\",\"2022-02-13T22:00:00.0000000Z\",\"2022-02-13T21:00:00.0000000Z\",\"2022-02-13T20:00:00.0000000Z\",\"2022-02-13T19:00:00.0000000Z\",\"2022-02-13T18:00:00.0000000Z\",\"2022-02-13T17:00:00.0000000Z\",\"2022-02-13T16:00:00.0000000Z\",\"2022-02-13T15:00:00.0000000Z\",\"2022-02-13T14:00:00.0000000Z\",\"2022-02-13T13:00:00.0000000Z\",\"2022-02-13T12:00:00.0000000Z\",\"2022-02-13T11:00:00.0000000Z\",\"2022-02-13T10:00:00.0000000Z\",\"2022-02-13T09:00:00.0000000Z\",\"2022-02-13T08:00:00.0000000Z\",\"2022-02-13T07:00:00.0000000Z\",\"2022-02-13T06:00:00.0000000Z\",\"2022-02-13T05:00:00.0000000Z\",\"2022-02-13T04:00:00.0000000Z\",\"2022-02-13T03:00:00.0000000Z\",\"2022-02-13T02:00:00.0000000Z\",\"2022-02-13T01:00:00.0000000Z\",\"2022-02-13T00:00:00.0000000Z\",\"2022-02-12T23:00:00.0000000Z\",\"2022-02-12T22:00:00.0000000Z\",\"2022-02-12T21:00:00.0000000Z\",\"2022-02-12T20:00:00.0000000Z\",\"2022-02-12T19:00:00.0000000Z\",\"2022-02-12T18:00:00.0000000Z\",\"2022-02-12T17:00:00.0000000Z\",\"2022-02-12T16:00:00.0000000Z\",\"2022-02-12T15:00:00.0000000Z\",\"2022-02-12T14:00:00.0000000Z\",\"2022-02-12T13:00:00.0000000Z\",\"2022-02-12T12:00:00.0000000Z\"]}],                        {\"autosize\":true,\"colorway\":[\"#5E0DAC\",\"#FF4F00\",\"#375CB1\",\"#FF7400\",\"#FFF400\",\"#FF0056\"],\"hovermode\":\"x\",\"margin\":{\"b\":15},\"paper_bgcolor\":\"rgba(0, 0, 0, 0)\",\"plot_bgcolor\":\"rgba(0, 0, 0, 0)\",\"template\":{\"data\":{\"bar\":[{\"error_x\":{\"color\":\"#f2f5fa\"},\"error_y\":{\"color\":\"#f2f5fa\"},\"marker\":{\"line\":{\"color\":\"rgb(17,17,17)\",\"width\":0.5},\"pattern\":{\"fillmode\":\"overlay\",\"size\":10,\"solidity\":0.2}},\"type\":\"bar\"}],\"barpolar\":[{\"marker\":{\"line\":{\"color\":\"rgb(17,17,17)\",\"width\":0.5},\"pattern\":{\"fillmode\":\"overlay\",\"size\":10,\"solidity\":0.2}},\"type\":\"barpolar\"}],\"carpet\":[{\"aaxis\":{\"endlinecolor\":\"#A2B1C6\",\"gridcolor\":\"#506784\",\"linecolor\":\"#506784\",\"minorgridcolor\":\"#506784\",\"startlinecolor\":\"#A2B1C6\"},\"baxis\":{\"endlinecolor\":\"#A2B1C6\",\"gridcolor\":\"#506784\",\"linecolor\":\"#506784\",\"minorgridcolor\":\"#506784\",\"startlinecolor\":\"#A2B1C6\"},\"type\":\"carpet\"}],\"choropleth\":[{\"colorbar\":{\"outlinewidth\":0,\"ticks\":\"\"},\"type\":\"choropleth\"}],\"contour\":[{\"colorbar\":{\"outlinewidth\":0,\"ticks\":\"\"},\"colorscale\":[[0.0,\"#0d0887\"],[0.1111111111111111,\"#46039f\"],[0.2222222222222222,\"#7201a8\"],[0.3333333333333333,\"#9c179e\"],[0.4444444444444444,\"#bd3786\"],[0.5555555555555556,\"#d8576b\"],[0.6666666666666666,\"#ed7953\"],[0.7777777777777778,\"#fb9f3a\"],[0.8888888888888888,\"#fdca26\"],[1.0,\"#f0f921\"]],\"type\":\"contour\"}],\"contourcarpet\":[{\"colorbar\":{\"outlinewidth\":0,\"ticks\":\"\"},\"type\":\"contourcarpet\"}],\"heatmap\":[{\"colorbar\":{\"outlinewidth\":0,\"ticks\":\"\"},\"colorscale\":[[0.0,\"#0d0887\"],[0.1111111111111111,\"#46039f\"],[0.2222222222222222,\"#7201a8\"],[0.3333333333333333,\"#9c179e\"],[0.4444444444444444,\"#bd3786\"],[0.5555555555555556,\"#d8576b\"],[0.6666666666666666,\"#ed7953\"],[0.7777777777777778,\"#fb9f3a\"],[0.8888888888888888,\"#fdca26\"],[1.0,\"#f0f921\"]],\"type\":\"heatmap\"}],\"heatmapgl\":[{\"colorbar\":{\"outlinewidth\":0,\"ticks\":\"\"},\"colorscale\":[[0.0,\"#0d0887\"],[0.1111111111111111,\"#46039f\"],[0.2222222222222222,\"#7201a8\"],[0.3333333333333333,\"#9c179e\"],[0.4444444444444444,\"#bd3786\"],[0.5555555555555556,\"#d8576b\"],[0.6666666666666666,\"#ed7953\"],[0.7777777777777778,\"#fb9f3a\"],[0.8888888888888888,\"#fdca26\"],[1.0,\"#f0f921\"]],\"type\":\"heatmapgl\"}],\"histogram\":[{\"marker\":{\"pattern\":{\"fillmode\":\"overlay\",\"size\":10,\"solidity\":0.2}},\"type\":\"histogram\"}],\"histogram2d\":[{\"colorbar\":{\"outlinewidth\":0,\"ticks\":\"\"},\"colorscale\":[[0.0,\"#0d0887\"],[0.1111111111111111,\"#46039f\"],[0.2222222222222222,\"#7201a8\"],[0.3333333333333333,\"#9c179e\"],[0.4444444444444444,\"#bd3786\"],[0.5555555555555556,\"#d8576b\"],[0.6666666666666666,\"#ed7953\"],[0.7777777777777778,\"#fb9f3a\"],[0.8888888888888888,\"#fdca26\"],[1.0,\"#f0f921\"]],\"type\":\"histogram2d\"}],\"histogram2dcontour\":[{\"colorbar\":{\"outlinewidth\":0,\"ticks\":\"\"},\"colorscale\":[[0.0,\"#0d0887\"],[0.1111111111111111,\"#46039f\"],[0.2222222222222222,\"#7201a8\"],[0.3333333333333333,\"#9c179e\"],[0.4444444444444444,\"#bd3786\"],[0.5555555555555556,\"#d8576b\"],[0.6666666666666666,\"#ed7953\"],[0.7777777777777778,\"#fb9f3a\"],[0.8888888888888888,\"#fdca26\"],[1.0,\"#f0f921\"]],\"type\":\"histogram2dcontour\"}],\"mesh3d\":[{\"colorbar\":{\"outlinewidth\":0,\"ticks\":\"\"},\"type\":\"mesh3d\"}],\"parcoords\":[{\"line\":{\"colorbar\":{\"outlinewidth\":0,\"ticks\":\"\"}},\"type\":\"parcoords\"}],\"pie\":[{\"automargin\":true,\"type\":\"pie\"}],\"scatter\":[{\"marker\":{\"line\":{\"color\":\"#283442\"}},\"type\":\"scatter\"}],\"scatter3d\":[{\"line\":{\"colorbar\":{\"outlinewidth\":0,\"ticks\":\"\"}},\"marker\":{\"colorbar\":{\"outlinewidth\":0,\"ticks\":\"\"}},\"type\":\"scatter3d\"}],\"scattercarpet\":[{\"marker\":{\"colorbar\":{\"outlinewidth\":0,\"ticks\":\"\"}},\"type\":\"scattercarpet\"}],\"scattergeo\":[{\"marker\":{\"colorbar\":{\"outlinewidth\":0,\"ticks\":\"\"}},\"type\":\"scattergeo\"}],\"scattergl\":[{\"marker\":{\"line\":{\"color\":\"#283442\"}},\"type\":\"scattergl\"}],\"scattermapbox\":[{\"marker\":{\"colorbar\":{\"outlinewidth\":0,\"ticks\":\"\"}},\"type\":\"scattermapbox\"}],\"scatterpolar\":[{\"marker\":{\"colorbar\":{\"outlinewidth\":0,\"ticks\":\"\"}},\"type\":\"scatterpolar\"}],\"scatterpolargl\":[{\"marker\":{\"colorbar\":{\"outlinewidth\":0,\"ticks\":\"\"}},\"type\":\"scatterpolargl\"}],\"scatterternary\":[{\"marker\":{\"colorbar\":{\"outlinewidth\":0,\"ticks\":\"\"}},\"type\":\"scatterternary\"}],\"surface\":[{\"colorbar\":{\"outlinewidth\":0,\"ticks\":\"\"},\"colorscale\":[[0.0,\"#0d0887\"],[0.1111111111111111,\"#46039f\"],[0.2222222222222222,\"#7201a8\"],[0.3333333333333333,\"#9c179e\"],[0.4444444444444444,\"#bd3786\"],[0.5555555555555556,\"#d8576b\"],[0.6666666666666666,\"#ed7953\"],[0.7777777777777778,\"#fb9f3a\"],[0.8888888888888888,\"#fdca26\"],[1.0,\"#f0f921\"]],\"type\":\"surface\"}],\"table\":[{\"cells\":{\"fill\":{\"color\":\"#506784\"},\"line\":{\"color\":\"rgb(17,17,17)\"}},\"header\":{\"fill\":{\"color\":\"#2a3f5f\"},\"line\":{\"color\":\"rgb(17,17,17)\"}},\"type\":\"table\"}]},\"layout\":{\"annotationdefaults\":{\"arrowcolor\":\"#f2f5fa\",\"arrowhead\":0,\"arrowwidth\":1},\"autotypenumbers\":\"strict\",\"coloraxis\":{\"colorbar\":{\"outlinewidth\":0,\"ticks\":\"\"}},\"colorscale\":{\"diverging\":[[0,\"#8e0152\"],[0.1,\"#c51b7d\"],[0.2,\"#de77ae\"],[0.3,\"#f1b6da\"],[0.4,\"#fde0ef\"],[0.5,\"#f7f7f7\"],[0.6,\"#e6f5d0\"],[0.7,\"#b8e186\"],[0.8,\"#7fbc41\"],[0.9,\"#4d9221\"],[1,\"#276419\"]],\"sequential\":[[0.0,\"#0d0887\"],[0.1111111111111111,\"#46039f\"],[0.2222222222222222,\"#7201a8\"],[0.3333333333333333,\"#9c179e\"],[0.4444444444444444,\"#bd3786\"],[0.5555555555555556,\"#d8576b\"],[0.6666666666666666,\"#ed7953\"],[0.7777777777777778,\"#fb9f3a\"],[0.8888888888888888,\"#fdca26\"],[1.0,\"#f0f921\"]],\"sequentialminus\":[[0.0,\"#0d0887\"],[0.1111111111111111,\"#46039f\"],[0.2222222222222222,\"#7201a8\"],[0.3333333333333333,\"#9c179e\"],[0.4444444444444444,\"#bd3786\"],[0.5555555555555556,\"#d8576b\"],[0.6666666666666666,\"#ed7953\"],[0.7777777777777778,\"#fb9f3a\"],[0.8888888888888888,\"#fdca26\"],[1.0,\"#f0f921\"]]},\"colorway\":[\"#636efa\",\"#EF553B\",\"#00cc96\",\"#ab63fa\",\"#FFA15A\",\"#19d3f3\",\"#FF6692\",\"#B6E880\",\"#FF97FF\",\"#FECB52\"],\"font\":{\"color\":\"#f2f5fa\"},\"geo\":{\"bgcolor\":\"rgb(17,17,17)\",\"lakecolor\":\"rgb(17,17,17)\",\"landcolor\":\"rgb(17,17,17)\",\"showlakes\":true,\"showland\":true,\"subunitcolor\":\"#506784\"},\"hoverlabel\":{\"align\":\"left\"},\"hovermode\":\"closest\",\"mapbox\":{\"style\":\"dark\"},\"paper_bgcolor\":\"rgb(17,17,17)\",\"plot_bgcolor\":\"rgb(17,17,17)\",\"polar\":{\"angularaxis\":{\"gridcolor\":\"#506784\",\"linecolor\":\"#506784\",\"ticks\":\"\"},\"bgcolor\":\"rgb(17,17,17)\",\"radialaxis\":{\"gridcolor\":\"#506784\",\"linecolor\":\"#506784\",\"ticks\":\"\"}},\"scene\":{\"xaxis\":{\"backgroundcolor\":\"rgb(17,17,17)\",\"gridcolor\":\"#506784\",\"gridwidth\":2,\"linecolor\":\"#506784\",\"showbackground\":true,\"ticks\":\"\",\"zerolinecolor\":\"#C8D4E3\"},\"yaxis\":{\"backgroundcolor\":\"rgb(17,17,17)\",\"gridcolor\":\"#506784\",\"gridwidth\":2,\"linecolor\":\"#506784\",\"showbackground\":true,\"ticks\":\"\",\"zerolinecolor\":\"#C8D4E3\"},\"zaxis\":{\"backgroundcolor\":\"rgb(17,17,17)\",\"gridcolor\":\"#506784\",\"gridwidth\":2,\"linecolor\":\"#506784\",\"showbackground\":true,\"ticks\":\"\",\"zerolinecolor\":\"#C8D4E3\"}},\"shapedefaults\":{\"line\":{\"color\":\"#f2f5fa\"}},\"sliderdefaults\":{\"bgcolor\":\"#C8D4E3\",\"bordercolor\":\"rgb(17,17,17)\",\"borderwidth\":1,\"tickwidth\":0},\"ternary\":{\"aaxis\":{\"gridcolor\":\"#506784\",\"linecolor\":\"#506784\",\"ticks\":\"\"},\"baxis\":{\"gridcolor\":\"#506784\",\"linecolor\":\"#506784\",\"ticks\":\"\"},\"bgcolor\":\"rgb(17,17,17)\",\"caxis\":{\"gridcolor\":\"#506784\",\"linecolor\":\"#506784\",\"ticks\":\"\"}},\"title\":{\"x\":0.05},\"updatemenudefaults\":{\"bgcolor\":\"#506784\",\"borderwidth\":0},\"xaxis\":{\"automargin\":true,\"gridcolor\":\"#283442\",\"linecolor\":\"#506784\",\"ticks\":\"\",\"title\":{\"standoff\":15},\"zerolinecolor\":\"#283442\",\"zerolinewidth\":2},\"yaxis\":{\"automargin\":true,\"gridcolor\":\"#283442\",\"linecolor\":\"#506784\",\"ticks\":\"\",\"title\":{\"standoff\":15},\"zerolinecolor\":\"#283442\",\"zerolinewidth\":2}}},\"title\":{\"font\":{\"color\":\"white\"},\"text\":\"Cryptocurrency Prices\",\"x\":0.5}},                        {\"responsive\": true}                    ).then(function(){\n",
       "                            \n",
       "var gd = document.getElementById('f0937553-9f58-409b-b599-8b51d03ead6a');\n",
       "var x = new MutationObserver(function (mutations, observer) {{\n",
       "        var display = window.getComputedStyle(gd).display;\n",
       "        if (!display || display === 'none') {{\n",
       "            console.log([gd, 'removed!']);\n",
       "            Plotly.purge(gd);\n",
       "            observer.disconnect();\n",
       "        }}\n",
       "}});\n",
       "\n",
       "// Listen for the removal of the full notebook cells\n",
       "var notebookContainer = gd.closest('#notebook-container');\n",
       "if (notebookContainer) {{\n",
       "    x.observe(notebookContainer, {childList: true});\n",
       "}}\n",
       "\n",
       "// Listen for the clearing of the current output cell\n",
       "var outputEl = gd.closest('.output');\n",
       "if (outputEl) {{\n",
       "    x.observe(outputEl, {childList: true});\n",
       "}}\n",
       "\n",
       "                        })                };                });            </script>        </div>"
      ]
     },
     "metadata": {},
     "output_type": "display_data"
    }
   ],
   "source": [
    "fig = go.Figure()\n",
    "fig.add_trace(go.Candlestick(x=df.time_period_start,\n",
    "                                         open=df.price_open,\n",
    "                                         high=df.price_high,\n",
    "                                         low=df.price_low,\n",
    "                                         close=df.price_close, )\n",
    "\n",
    "                    )\n",
    "\n",
    "fig.update_layout(colorway=[\"#5E0DAC\", '#FF4F00', '#375CB1', '#FF7400', '#FFF400', '#FF0056'], \n",
    "                  template='plotly_dark',\n",
    "                  paper_bgcolor='rgba(0, 0, 0, 0)',\n",
    "    plot_bgcolor='rgba(0, 0, 0, 0)',\n",
    "    margin={'b': 15},\n",
    "    hovermode='x',\n",
    "    autosize=True,\n",
    "    title={'text': 'Cryptocurrency Prices', 'font': {'color': 'white'}, 'x': 0.5},)\n",
    "\n",
    "fig.show()\n"
   ]
  },
  {
   "cell_type": "code",
   "execution_count": null,
   "metadata": {},
   "outputs": [],
   "source": []
  },
  {
   "cell_type": "raw",
   "metadata": {},
   "source": [
    " # currency=value\n",
    "    url = f'https://rest.coinapi.io/v1/ohlcv/{currency}/USD/latest?period_id={time_change}'\n",
    "    #apikey = '6B081E29-633F-4CDD-9743-9219FBE0709B'\n",
    "    apikey='60F4A03A-174B-4FC1-973D-D05364E6AEEB'\n",
    "    #60F4A03A-174B-4FC1-973D-D05364E6AEEB\n",
    "    headers = {'X-CoinAPI-Key': apikey}\n",
    "    response = requests.get(url, headers=headers)\n",
    "    data = json.loads(response.text)\n",
    "    df = pd.DataFrame(data)"
   ]
  },
  {
   "cell_type": "code",
   "execution_count": null,
   "metadata": {},
   "outputs": [],
   "source": []
  }
 ],
 "metadata": {
  "kernelspec": {
   "display_name": "Python 3",
   "language": "python",
   "name": "python3"
  },
  "language_info": {
   "codemirror_mode": {
    "name": "ipython",
    "version": 3
   },
   "file_extension": ".py",
   "mimetype": "text/x-python",
   "name": "python",
   "nbconvert_exporter": "python",
   "pygments_lexer": "ipython3",
   "version": "3.8.8"
  }
 },
 "nbformat": 4,
 "nbformat_minor": 4
}
