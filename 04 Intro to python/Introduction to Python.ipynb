{
 "cells": [
  {
   "cell_type": "markdown",
   "metadata": {},
   "source": [
    "# Introduction to Python"
   ]
  },
  {
   "cell_type": "markdown",
   "metadata": {},
   "source": [
    "# General overview of Python programming¶\n",
    "- Python is a general-purpose interpreted, interactive, object-oriented, and high-level programming language.\n",
    "- Created by Guido van Rossum in 1991\n",
    "- Python is designed to be highly readable. It uses English keywords frequently where as other languages use punctuation\n",
    "\n",
    "## Applications for Python\n",
    "\n",
    "- Web Development(Django &Flask)\n",
    "- Machine Learning and Artificial Intelligence(Sklearn, )\n",
    "- Data Science and Data Visualization(Pandas, Plotly, Dash)\n",
    "- Web Scraping Applications (Beautifulsoap,ScrapySelinium,Splash )\n",
    "- Embedded Applications (Arduino,Raspberry Pi)\n",
    "- Desktop GUI(Tkinter,kivy)\n",
    "- Game Development(Blender,Unity3d,UDK)\n",
    " - Mobile application (Kivy)\n",
    "\n",
    "## Getting Python\n",
    "\n",
    "- The most up-to-date and current source code, binaries, documentation, news, etc., is available on the official website of Python. https://www.python.org/downloads/\n",
    "- You can download Python documentation from https://www.python.org/doc/. The documentation is available in HTML, PDF, and PostScript formats.\n",
    "\n",
    "\n",
    "## Python IDEs and Code Editors¶\n",
    "- Pycharm : https://www.jetbrains.com/pycharm/\n",
    "- VS Code : https://code.visualstudio.com/\n",
    "- Anaconda : https://www.anaconda.com/products/individual\n",
    "\n",
    "## Agenda\n",
    "This lesson covers the basic syntax and language rules to follow when writing a python program.\n",
    "\n",
    "## COMMENTS\n",
    "<li>You use the hash symbol for single line comments and single or double quotes for multi-line comments</li>"
   ]
  },
  {
   "cell_type": "code",
   "execution_count": 1,
   "metadata": {},
   "outputs": [],
   "source": [
    "# This is a single line comments"
   ]
  },
  {
   "cell_type": "code",
   "execution_count": 1,
   "metadata": {},
   "outputs": [
    {
     "data": {
      "text/plain": [
       "' This is a \\nmultiple line \\ncomment '"
      ]
     },
     "execution_count": 1,
     "metadata": {},
     "output_type": "execute_result"
    }
   ],
   "source": [
    "\"\"\" This is a \n",
    "multiple line \n",
    "comment \"\"\"\n",
    "\n",
    "#This\n",
    "# a comment as well'''\n",
    "# If we do not assign strings to any variable, they act as comments"
   ]
  },
  {
   "cell_type": "markdown",
   "metadata": {},
   "source": [
    "### Variables\n",
    "\n",
    "###### Variable naming\n",
    "- A variable name can have a numbers letters and underscore. But cannot start with a number, only letters or underscore.</li>\n",
    "- Spaces are not allowed in variable names but undescores can be used to separate words </li>\n",
    "- Avoid using python keywords and function names as variable names. eg print </li>\n",
    "- Variable names should be short and descriptive.</li>"
   ]
  },
  {
   "cell_type": "code",
   "execution_count": 2,
   "metadata": {},
   "outputs": [],
   "source": [
    "name = 'Pablo Picasso'\n",
    "# = sign is called an assignment operator."
   ]
  },
  {
   "cell_type": "markdown",
   "metadata": {},
   "source": [
    "## Data Types"
   ]
  },
  {
   "cell_type": "markdown",
   "metadata": {},
   "source": [
    "### Numeric"
   ]
  },
  {
   "cell_type": "markdown",
   "metadata": {},
   "source": [
    "##### Integers\n",
    "Integers are positive or negative whole numbers with no decimal point."
   ]
  },
  {
   "cell_type": "code",
   "execution_count": 3,
   "metadata": {},
   "outputs": [
    {
     "data": {
      "text/plain": [
       "3"
      ]
     },
     "execution_count": 3,
     "metadata": {},
     "output_type": "execute_result"
    }
   ],
   "source": [
    "x = 2\n",
    "x + 1"
   ]
  },
  {
   "cell_type": "code",
   "execution_count": 4,
   "metadata": {},
   "outputs": [
    {
     "data": {
      "text/plain": [
       "4"
      ]
     },
     "execution_count": 4,
     "metadata": {},
     "output_type": "execute_result"
    }
   ],
   "source": [
    "y = 2 + 2\n",
    "print(y)"
   ]
  },
  {
   "cell_type": "markdown",
   "metadata": {},
   "source": [
    "##### Floats\n",
    "\n",
    "- Are basically numbers with decimal points."
   ]
  },
  {
   "cell_type": "code",
   "execution_count": 6,
   "metadata": {},
   "outputs": [
    {
     "data": {
      "text/plain": [
       "8.2"
      ]
     },
     "execution_count": 6,
     "metadata": {},
     "output_type": "execute_result"
    }
   ],
   "source": [
    "2.5 + 5.7"
   ]
  },
  {
   "cell_type": "code",
   "execution_count": 7,
   "metadata": {},
   "outputs": [
    {
     "data": {
      "text/plain": [
       "2.960594"
      ]
     },
     "execution_count": 7,
     "metadata": {},
     "output_type": "execute_result"
    }
   ],
   "source": [
    "d = 2.960594\n",
    "print(d)"
   ]
  },
  {
   "cell_type": "code",
   "execution_count": 8,
   "metadata": {},
   "outputs": [
    {
     "data": {
      "text/plain": [
       "25.714474416"
      ]
     },
     "execution_count": 8,
     "metadata": {},
     "output_type": "execute_result"
    }
   ],
   "source": [
    "y = 2.7894 * 9.21864\n",
    "print(y)"
   ]
  },
  {
   "cell_type": "markdown",
   "metadata": {},
   "source": [
    "##### Boolean\n",
    "\n",
    "- A Boolean value is either True or False.\n",
    "- In python booleans must start with a capital letter."
   ]
  },
  {
   "cell_type": "code",
   "execution_count": 9,
   "metadata": {},
   "outputs": [
    {
     "data": {
      "text/plain": [
       "True"
      ]
     },
     "execution_count": 9,
     "metadata": {},
     "output_type": "execute_result"
    }
   ],
   "source": [
    "False # This is a boolean\n",
    "True # This is a boolean"
   ]
  },
  {
   "cell_type": "markdown",
   "metadata": {},
   "source": [
    "#### Strings\n",
    "A string in Python is a sequence of characters."
   ]
  },
  {
   "cell_type": "markdown",
   "metadata": {},
   "source": [
    "<ul>\n",
    "    <li>Strings are defined inside single or double quotation marks.</li>\n",
    "</ul>"
   ]
  },
  {
   "cell_type": "code",
   "execution_count": 11,
   "metadata": {},
   "outputs": [
    {
     "name": "stdout",
     "output_type": "stream",
     "text": [
      "Barrack Obama\n"
     ]
    }
   ],
   "source": [
    "name = 'Barrack Obama'\n",
    "print(name)"
   ]
  },
  {
   "cell_type": "markdown",
   "metadata": {},
   "source": [
    "#### String formatting"
   ]
  },
  {
   "cell_type": "code",
   "execution_count": 18,
   "metadata": {},
   "outputs": [
    {
     "name": "stdout",
     "output_type": "stream",
     "text": [
      "Hello, my name is Elon Musk and I am 50\n"
     ]
    }
   ],
   "source": [
    "#string \n",
    "name = 'Elon Musk'\n",
    "#int \n",
    "age = 50\n",
    "\n",
    "# Concatenate - You can only concatenate strings with other othe strings not integers or floats.\n",
    "# To convert an integer int a string we wrap it inside a str() method.\n",
    "print('Hello, my name is ' + name + ' and I am ' + str(age))\n"
   ]
  },
  {
   "cell_type": "markdown",
   "metadata": {},
   "source": [
    "###### F-strings\n",
    "\n",
    "<ul>\n",
    "    <li> F-strings provide a concise and convenient way to embed python expressions inside string literals for formatting. </li>\n",
    "    <li>Available in python 3.6+</li>\n",
    "    <li>F-strings use curly braces to store the values which should be formatted into a string</li>\n",
    "</ul>"
   ]
  },
  {
   "cell_type": "code",
   "execution_count": 19,
   "metadata": {},
   "outputs": [
    {
     "name": "stdout",
     "output_type": "stream",
     "text": [
      "Hello, my name is Elon Musk and I am 50 years old.\n"
     ]
    }
   ],
   "source": [
    "print(f\"Hello, my name is {name} and I am {age} years old.\")"
   ]
  },
  {
   "cell_type": "code",
   "execution_count": 20,
   "metadata": {},
   "outputs": [
    {
     "name": "stdout",
     "output_type": "stream",
     "text": [
      "Hello, my name is Elon Musk. Next year I will be 51 years old.\n"
     ]
    }
   ],
   "source": [
    "# f strings can also support functions or any other expression, evaluated inside the string. \n",
    "print(f'Hello, my name is {name}. Next year I will be {age + 1} years old.')"
   ]
  },
  {
   "cell_type": "code",
   "execution_count": 23,
   "metadata": {},
   "outputs": [
    {
     "name": "stdout",
     "output_type": "stream",
     "text": [
      "Hello, my name is Elon Musk and I am 50 years old.\n"
     ]
    }
   ],
   "source": [
    "# If you are using python 3.5 or earlier, you can use format() method instead.\n",
    "print('Hello, my name is {} and I am {} years old.'.format(name, age))"
   ]
  },
  {
   "cell_type": "markdown",
   "metadata": {},
   "source": [
    "#### String methods"
   ]
  },
  {
   "cell_type": "code",
   "execution_count": 32,
   "metadata": {},
   "outputs": [],
   "source": [
    "s = 'hello world'"
   ]
  },
  {
   "cell_type": "code",
   "execution_count": 26,
   "metadata": {},
   "outputs": [
    {
     "data": {
      "text/plain": [
       "'Hello world'"
      ]
     },
     "execution_count": 26,
     "metadata": {},
     "output_type": "execute_result"
    }
   ],
   "source": [
    "# Capitalize\n",
    "s.capitalize()\n",
    "# Make first letter uppercase"
   ]
  },
  {
   "cell_type": "code",
   "execution_count": 27,
   "metadata": {},
   "outputs": [
    {
     "data": {
      "text/plain": [
       "'Hello World'"
      ]
     },
     "execution_count": 27,
     "metadata": {},
     "output_type": "execute_result"
    }
   ],
   "source": [
    "s.title()"
   ]
  },
  {
   "cell_type": "code",
   "execution_count": 28,
   "metadata": {},
   "outputs": [
    {
     "data": {
      "text/plain": [
       "'HELLO WORLD'"
      ]
     },
     "execution_count": 28,
     "metadata": {},
     "output_type": "execute_result"
    }
   ],
   "source": [
    "# Make all uppercase\n",
    "s.upper()"
   ]
  },
  {
   "cell_type": "code",
   "execution_count": 31,
   "metadata": {},
   "outputs": [
    {
     "name": "stdout",
     "output_type": "stream",
     "text": [
      "hello world\n"
     ]
    }
   ],
   "source": [
    "# Make all lower\n",
    "print(s.lower())"
   ]
  },
  {
   "cell_type": "code",
   "execution_count": 24,
   "metadata": {},
   "outputs": [
    {
     "data": {
      "text/plain": [
       "11"
      ]
     },
     "execution_count": 24,
     "metadata": {},
     "output_type": "execute_result"
    }
   ],
   "source": [
    "# Get length\n",
    "len(s)"
   ]
  },
  {
   "cell_type": "code",
   "execution_count": 33,
   "metadata": {},
   "outputs": [
    {
     "data": {
      "text/plain": [
       "'hello everyone'"
      ]
     },
     "execution_count": 33,
     "metadata": {},
     "output_type": "execute_result"
    }
   ],
   "source": [
    "# Replace\n",
    "s.replace('world', 'everyone')"
   ]
  },
  {
   "cell_type": "code",
   "execution_count": 34,
   "metadata": {},
   "outputs": [
    {
     "data": {
      "text/plain": [
       "3"
      ]
     },
     "execution_count": 34,
     "metadata": {},
     "output_type": "execute_result"
    }
   ],
   "source": [
    "# Count\n",
    "s.count('l')"
   ]
  },
  {
   "cell_type": "code",
   "execution_count": 38,
   "metadata": {},
   "outputs": [
    {
     "data": {
      "text/plain": [
       "True"
      ]
     },
     "execution_count": 38,
     "metadata": {},
     "output_type": "execute_result"
    }
   ],
   "source": [
    "# Starts with\n",
    "s.startswith('hello')"
   ]
  },
  {
   "cell_type": "code",
   "execution_count": 32,
   "metadata": {},
   "outputs": [
    {
     "data": {
      "text/plain": [
       "True"
      ]
     },
     "execution_count": 32,
     "metadata": {},
     "output_type": "execute_result"
    }
   ],
   "source": [
    "# Ends with\n",
    "s.endswith('d')"
   ]
  },
  {
   "cell_type": "code",
   "execution_count": 35,
   "metadata": {},
   "outputs": [
    {
     "data": {
      "text/plain": [
       "['Hello,', 'How', 'are', 'you?']"
      ]
     },
     "execution_count": 35,
     "metadata": {},
     "output_type": "execute_result"
    }
   ],
   "source": [
    "# Split into a list\n",
    "y = 'Hello, How are you?'\n",
    "y.split(' ')"
   ]
  },
  {
   "cell_type": "code",
   "execution_count": 43,
   "metadata": {},
   "outputs": [
    {
     "data": {
      "text/plain": [
       "6"
      ]
     },
     "execution_count": 43,
     "metadata": {},
     "output_type": "execute_result"
    }
   ],
   "source": [
    "# Find position\n",
    "s.find('world')"
   ]
  },
  {
   "cell_type": "markdown",
   "metadata": {},
   "source": [
    "# Python Data Structures\n",
    "Data Structures are a specialized means of organizing and storing data in computers in such a way that we can perform operations on the stored data more efficiently\n",
    "<br>\n",
    "1) Lists <br>\n",
    "2) Tuples <br>\n",
    "3) Sets <br>\n",
    "4) Dictionaries <br>"
   ]
  },
  {
   "cell_type": "markdown",
   "metadata": {},
   "source": [
    "## Lists"
   ]
  },
  {
   "cell_type": "markdown",
   "metadata": {},
   "source": [
    "- A list is a collection of items in a particular order. <br>\n",
    "- In python [ ] indicate a list and each element is separated by a comma."
   ]
  },
  {
   "cell_type": "code",
   "execution_count": 39,
   "metadata": {},
   "outputs": [
    {
     "name": "stdout",
     "output_type": "stream",
     "text": [
      "[1, 2, 3, 4, 5, 6]\n"
     ]
    }
   ],
   "source": [
    "numbers = [1, 2, 3, 4, 5, 6]\n",
    "print(numbers)"
   ]
  },
  {
   "cell_type": "code",
   "execution_count": 54,
   "metadata": {},
   "outputs": [],
   "source": [
    "fruits = [\"Apples\",'Oranges','Mangoes','Peach']"
   ]
  },
  {
   "cell_type": "markdown",
   "metadata": {},
   "source": [
    "- To access an element in the list , we use the index of that particular element.\n",
    "- Python is zero indexed i.e the first item in the list has an index of zero."
   ]
  },
  {
   "cell_type": "code",
   "execution_count": 55,
   "metadata": {},
   "outputs": [
    {
     "name": "stdout",
     "output_type": "stream",
     "text": [
      "Mangoes\n"
     ]
    }
   ],
   "source": [
    "print(fruits[2])"
   ]
  },
  {
   "cell_type": "code",
   "execution_count": 56,
   "metadata": {},
   "outputs": [
    {
     "name": "stdout",
     "output_type": "stream",
     "text": [
      "['Apples', 'Oranges', 'Mangoes', 'Peach', 'Pineapples']\n"
     ]
    }
   ],
   "source": [
    "# Append - Add an item to the end of the list\n",
    "fruits.append('Pineapples')\n",
    "print(fruits)"
   ]
  },
  {
   "cell_type": "code",
   "execution_count": 57,
   "metadata": {},
   "outputs": [],
   "source": [
    "# Removes the item from the list based on the item name.\n",
    "fruits.remove('Pineapples')"
   ]
  },
  {
   "cell_type": "code",
   "execution_count": 58,
   "metadata": {},
   "outputs": [
    {
     "data": {
      "text/plain": [
       "['Apples', 'Oranges', 'Mangoes', 'Peach']"
      ]
     },
     "execution_count": 58,
     "metadata": {},
     "output_type": "execute_result"
    }
   ],
   "source": [
    "fruits"
   ]
  },
  {
   "cell_type": "code",
   "execution_count": 59,
   "metadata": {},
   "outputs": [
    {
     "data": {
      "text/plain": [
       "['Strawberries', 'Apples', 'Oranges', 'Mangoes', 'Peach']"
      ]
     },
     "execution_count": 59,
     "metadata": {},
     "output_type": "execute_result"
    }
   ],
   "source": [
    "# Insert into position \n",
    "# position index and new item\n",
    "fruits.insert(0, 'Strawberries')\n",
    "fruits"
   ]
  },
  {
   "cell_type": "code",
   "execution_count": 60,
   "metadata": {},
   "outputs": [
    {
     "data": {
      "text/plain": [
       "['Apples', 'Oranges', 'Mangoes', 'Peach']"
      ]
     },
     "execution_count": 60,
     "metadata": {},
     "output_type": "execute_result"
    }
   ],
   "source": [
    "# Delete item using it's index\n",
    "# Can also delete multiple elements as a slice of indices eg [1:3]\n",
    "del fruits[0]\n",
    "fruits"
   ]
  },
  {
   "cell_type": "code",
   "execution_count": 61,
   "metadata": {},
   "outputs": [
    {
     "data": {
      "text/plain": [
       "['Apples', 'Oranges', 'Mangoes']"
      ]
     },
     "execution_count": 61,
     "metadata": {},
     "output_type": "execute_result"
    }
   ],
   "source": [
    "# You can remove the item at the specified position and get its value with pop()\n",
    "# If there is no argument specified in pop() method the last item in the list is removed.\n",
    "last=fruits.pop()\n",
    "fruits"
   ]
  },
  {
   "cell_type": "code",
   "execution_count": 62,
   "metadata": {},
   "outputs": [
    {
     "name": "stdout",
     "output_type": "stream",
     "text": [
      "Peach\n"
     ]
    }
   ],
   "source": [
    "print(last)"
   ]
  },
  {
   "cell_type": "code",
   "execution_count": 63,
   "metadata": {},
   "outputs": [
    {
     "data": {
      "text/plain": [
       "[]"
      ]
     },
     "execution_count": 63,
     "metadata": {},
     "output_type": "execute_result"
    }
   ],
   "source": [
    "# Delete the entire list\n",
    "fruits.clear()\n",
    "fruits"
   ]
  },
  {
   "cell_type": "code",
   "execution_count": 71,
   "metadata": {},
   "outputs": [
    {
     "name": "stdout",
     "output_type": "stream",
     "text": [
      "['Apples', 'Oranges', 'Mangoes', 'Peach', ['passion', 'pineapples'], 'passion', 'pineapples']\n"
     ]
    }
   ],
   "source": [
    "fruits1 = ['Apples', 'Oranges', 'Mangoes', 'Peach',['passion', 'pineapples']]\n",
    "fruits2 = ['passion', 'pineapples']\n",
    "fruits1.extend(fruits2)\n",
    "print(fruits1)"
   ]
  },
  {
   "cell_type": "markdown",
   "metadata": {},
   "source": [
    "- We can also have list inside another list - <b>Nested list</b>"
   ]
  },
  {
   "cell_type": "markdown",
   "metadata": {},
   "source": [
    "### Tuples\n",
    "\n",
    "- A tuple is basically a list that cannot be changed.\n",
    "- Python refers to values that cannot change as immutable, and an immutable list is called a <b>tuple.</b>\n",
    "- A tuple looks just like a list except you use parentheses instead of square brackets.\n",
    "- Tuple can have duplicate members."
   ]
  },
  {
   "cell_type": "code",
   "execution_count": 73,
   "metadata": {},
   "outputs": [],
   "source": [
    "fruits_tuple = ('Apples', 'Oranges', 'Grapes', 'Mangoes')"
   ]
  },
  {
   "cell_type": "code",
   "execution_count": 74,
   "metadata": {},
   "outputs": [
    {
     "ename": "TypeError",
     "evalue": "'tuple' object does not support item assignment",
     "output_type": "error",
     "traceback": [
      "\u001b[1;31m---------------------------------------------------------------------------\u001b[0m",
      "\u001b[1;31mTypeError\u001b[0m                                 Traceback (most recent call last)",
      "\u001b[1;32m<ipython-input-74-724f4e531764>\u001b[0m in \u001b[0;36m<module>\u001b[1;34m\u001b[0m\n\u001b[0;32m      1\u001b[0m \u001b[1;31m# unchangeable values\u001b[0m\u001b[1;33m\u001b[0m\u001b[1;33m\u001b[0m\u001b[1;33m\u001b[0m\u001b[0m\n\u001b[1;32m----> 2\u001b[1;33m \u001b[0mfruits_tuple\u001b[0m\u001b[1;33m[\u001b[0m\u001b[1;36m0\u001b[0m\u001b[1;33m]\u001b[0m \u001b[1;33m=\u001b[0m \u001b[1;34m'Peach'\u001b[0m\u001b[1;33m\u001b[0m\u001b[1;33m\u001b[0m\u001b[0m\n\u001b[0m",
      "\u001b[1;31mTypeError\u001b[0m: 'tuple' object does not support item assignment"
     ]
    }
   ],
   "source": [
    "# unchangeable values\n",
    "fruits_tuple[0] = 'Peach'"
   ]
  },
  {
   "cell_type": "markdown",
   "metadata": {},
   "source": [
    "### Set\n",
    "\n",
    "- Sets are used to store multiple items in a single variable."
   ]
  },
  {
   "cell_type": "code",
   "execution_count": 80,
   "metadata": {},
   "outputs": [
    {
     "data": {
      "text/plain": [
       "{'Apples', 'Mango', 'Oranges'}"
      ]
     },
     "execution_count": 80,
     "metadata": {},
     "output_type": "execute_result"
    }
   ],
   "source": [
    "fruits_set = {'Oranges', 'Apples', 'Mango','Mango','Mango','Mango','Mango','Apples', }\n",
    "fruits_set"
   ]
  },
  {
   "cell_type": "code",
   "execution_count": 77,
   "metadata": {},
   "outputs": [
    {
     "data": {
      "text/plain": [
       "{'Apples', 'Grape', 'Mango', 'Oranges'}"
      ]
     },
     "execution_count": 77,
     "metadata": {},
     "output_type": "execute_result"
    }
   ],
   "source": [
    "# Add to set\n",
    "fruits_set.add('Grape')\n",
    "fruits_set"
   ]
  },
  {
   "cell_type": "code",
   "execution_count": 78,
   "metadata": {},
   "outputs": [
    {
     "data": {
      "text/plain": [
       "{'Apples', 'Mango', 'Oranges'}"
      ]
     },
     "execution_count": 78,
     "metadata": {},
     "output_type": "execute_result"
    }
   ],
   "source": [
    "# Remove from set\n",
    "fruits_set.remove('Grape')\n",
    "fruits_set"
   ]
  },
  {
   "cell_type": "code",
   "execution_count": 79,
   "metadata": {},
   "outputs": [
    {
     "data": {
      "text/plain": [
       "{'Apples', 'Mango', 'Oranges'}"
      ]
     },
     "execution_count": 79,
     "metadata": {},
     "output_type": "execute_result"
    }
   ],
   "source": [
    "# Add duplicate\n",
    "fruits_set.add('Apples')\n",
    "fruits_set"
   ]
  },
  {
   "cell_type": "code",
   "execution_count": 79,
   "metadata": {},
   "outputs": [
    {
     "name": "stdout",
     "output_type": "stream",
     "text": [
      "False\n"
     ]
    }
   ],
   "source": [
    "# Check if in set\n",
    "print('Peach' in fruits_set)"
   ]
  },
  {
   "cell_type": "code",
   "execution_count": 81,
   "metadata": {},
   "outputs": [],
   "source": [
    "# Clear set\n",
    "fruits_set.clear()"
   ]
  },
  {
   "cell_type": "code",
   "execution_count": 82,
   "metadata": {},
   "outputs": [
    {
     "data": {
      "text/plain": [
       "set()"
      ]
     },
     "execution_count": 82,
     "metadata": {},
     "output_type": "execute_result"
    }
   ],
   "source": [
    "fruits_set"
   ]
  },
  {
   "cell_type": "code",
   "execution_count": 83,
   "metadata": {},
   "outputs": [],
   "source": [
    "# Delete\n",
    "del fruits_set"
   ]
  },
  {
   "cell_type": "markdown",
   "metadata": {},
   "source": [
    "### Dictionaries\n",
    "\n",
    "- A dictionary in Python is a collection of key-value pairs. \n",
    "- Each key is connected to a value, and you can use a key to access the value associated with that key."
   ]
  },
  {
   "cell_type": "code",
   "execution_count": 109,
   "metadata": {},
   "outputs": [],
   "source": [
    "legend = {'name': 'Geoffrey Hinton', 'age': 73, 'city': 'Toronto'}"
   ]
  },
  {
   "cell_type": "code",
   "execution_count": 110,
   "metadata": {},
   "outputs": [
    {
     "name": "stdout",
     "output_type": "stream",
     "text": [
      "Geoffrey Hinton\n"
     ]
    }
   ],
   "source": [
    "# Accessing Values in a Dictionary\n",
    "print(legend.get('name'))"
   ]
  },
  {
   "cell_type": "code",
   "execution_count": 111,
   "metadata": {},
   "outputs": [
    {
     "name": "stdout",
     "output_type": "stream",
     "text": [
      "Geoffrey Hinton\n"
     ]
    }
   ],
   "source": [
    "# Accessing Values in a Dictionary\n",
    "print(legend['name'])"
   ]
  },
  {
   "cell_type": "code",
   "execution_count": 112,
   "metadata": {},
   "outputs": [],
   "source": [
    "# Adding New Key-Value Pairs\n",
    "legend['student'] = 'Yann LeCun'"
   ]
  },
  {
   "cell_type": "code",
   "execution_count": 113,
   "metadata": {},
   "outputs": [
    {
     "name": "stdout",
     "output_type": "stream",
     "text": [
      "{'name': 'Geoffrey Hinton', 'age': 73, 'city': 'Toronto', 'student': 'Yann LeCun'}\n"
     ]
    }
   ],
   "source": [
    "print(legend)"
   ]
  },
  {
   "cell_type": "code",
   "execution_count": 114,
   "metadata": {},
   "outputs": [],
   "source": [
    "# Starting with an Empty Dictionary\n",
    "# You can add data as you go.\n",
    "legend = {}"
   ]
  },
  {
   "cell_type": "code",
   "execution_count": 115,
   "metadata": {},
   "outputs": [],
   "source": [
    "# Modifying Values in a Dictionary\n",
    "legend['name'] = 'Yann LeCun'\n",
    "legend['student'] = 'Wojciech Zaremba'"
   ]
  },
  {
   "cell_type": "code",
   "execution_count": 116,
   "metadata": {},
   "outputs": [
    {
     "name": "stdout",
     "output_type": "stream",
     "text": [
      "{'name': 'Yann LeCun', 'student': 'Wojciech Zaremba'}\n"
     ]
    }
   ],
   "source": [
    "print(legend)"
   ]
  },
  {
   "cell_type": "code",
   "execution_count": 117,
   "metadata": {},
   "outputs": [
    {
     "name": "stdout",
     "output_type": "stream",
     "text": [
      "dict_items([('name', 'Yann LeCun'), ('student', 'Wojciech Zaremba')])\n"
     ]
    }
   ],
   "source": [
    "# Accessing dictionary items\n",
    "print(legend.items())"
   ]
  },
  {
   "cell_type": "code",
   "execution_count": 118,
   "metadata": {},
   "outputs": [
    {
     "name": "stdout",
     "output_type": "stream",
     "text": [
      "dict_keys(['name', 'student'])\n"
     ]
    }
   ],
   "source": [
    "# Accessing dictionary keys only\n",
    "print(legend.keys())"
   ]
  },
  {
   "cell_type": "code",
   "execution_count": 119,
   "metadata": {},
   "outputs": [
    {
     "name": "stdout",
     "output_type": "stream",
     "text": [
      "dict_values(['Yann LeCun', 'Wojciech Zaremba'])\n"
     ]
    }
   ],
   "source": [
    "# Accessing dictionary value only\n",
    "print(legend.values())"
   ]
  },
  {
   "cell_type": "code",
   "execution_count": 120,
   "metadata": {},
   "outputs": [
    {
     "data": {
      "text/plain": [
       "{'name': 'Yann LeCun', 'student': 'Wojciech Zaremba', 'city': 'San Francisco'}"
      ]
     },
     "execution_count": 120,
     "metadata": {},
     "output_type": "execute_result"
    }
   ],
   "source": [
    "## Copy dict\n",
    "legend2 = legend.copy()\n",
    "legend2['city'] = 'San Francisco'\n",
    "legend2"
   ]
  },
  {
   "cell_type": "code",
   "execution_count": 121,
   "metadata": {},
   "outputs": [
    {
     "data": {
      "text/plain": [
       "{'name': 'Yann LeCun', 'student': 'Wojciech Zaremba'}"
      ]
     },
     "execution_count": 121,
     "metadata": {},
     "output_type": "execute_result"
    }
   ],
   "source": [
    "#remove legend's age \n",
    "del(legend2['city'])\n",
    "legend2"
   ]
  },
  {
   "cell_type": "code",
   "execution_count": 122,
   "metadata": {},
   "outputs": [
    {
     "data": {
      "text/plain": [
       "'Wojciech Zaremba'"
      ]
     },
     "execution_count": 122,
     "metadata": {},
     "output_type": "execute_result"
    }
   ],
   "source": [
    "student=legend.pop('student')\n",
    "student"
   ]
  },
  {
   "cell_type": "code",
   "execution_count": 123,
   "metadata": {},
   "outputs": [
    {
     "name": "stdout",
     "output_type": "stream",
     "text": [
      "2\n"
     ]
    },
    {
     "data": {
      "text/plain": [
       "{'name': 'Yann LeCun', 'student': 'Wojciech Zaremba'}"
      ]
     },
     "execution_count": 123,
     "metadata": {},
     "output_type": "execute_result"
    }
   ],
   "source": [
    "# Get length of the dictionary\n",
    "print(len(legend2))\n",
    "legend2"
   ]
  },
  {
   "cell_type": "code",
   "execution_count": 125,
   "metadata": {},
   "outputs": [
    {
     "data": {
      "text/plain": [
       "[{'name': 'Geoffrey Hinton', 'age': 73, 'socials': ['facebook', 'Twitter']},\n",
       " {'name': 'Yann LeCun', 'age': 61, 'socials': ['facebook', 'Instagram']},\n",
       " {'name': 'Yoshua Bengio', 'age': 57, 'socials': ['Instagram', 'Twitter']}]"
      ]
     },
     "execution_count": 125,
     "metadata": {},
     "output_type": "execute_result"
    }
   ],
   "source": [
    "# List of dictionaries\n",
    "# Sometimes you’ll want to store a set of dictionaries in a list or a list of items as a value in a dictionary. \n",
    "# eg list of subscribers.\n",
    "# This is called nesting.\n",
    "\n",
    "legends = [\n",
    "    {'name': 'Geoffrey Hinton', 'age': 73, 'socials': ['facebook', 'Twitter']},\n",
    "    {'name': 'Yann LeCun', 'age': 61, 'socials': ['facebook', 'Instagram']},\n",
    "    {'name': 'Yoshua Bengio', 'age': 57, 'socials': ['Instagram', 'Twitter']}\n",
    "]\n",
    "legends"
   ]
  },
  {
   "cell_type": "markdown",
   "metadata": {},
   "source": [
    "### Conditionals\n",
    "\n",
    "- Programming often involves examining a set of conditions and deciding which action to take based on those conditions.\n",
    "- Python’s if/else statements allows you to examine the current state of a program and respond appropriately to that state."
   ]
  },
  {
   "cell_type": "markdown",
   "metadata": {},
   "source": [
    "###### Checking for equality\n",
    "\n",
    "- Double equals signs check for equality.\n",
    "- (==) is also known as EQUALITY OPERATOR."
   ]
  },
  {
   "cell_type": "code",
   "execution_count": 92,
   "metadata": {},
   "outputs": [
    {
     "data": {
      "text/plain": [
       "True"
      ]
     },
     "execution_count": 92,
     "metadata": {},
     "output_type": "execute_result"
    }
   ],
   "source": [
    "car = 'bmw'\n",
    "car == 'bmw'"
   ]
  },
  {
   "cell_type": "markdown",
   "metadata": {},
   "source": [
    "###### Checking for Inequality\n",
    "\n",
    "- When you want to determine whether two values are not equal, you can combine an exclamation point and an equal sign (!=)."
   ]
  },
  {
   "cell_type": "code",
   "execution_count": 93,
   "metadata": {},
   "outputs": [
    {
     "data": {
      "text/plain": [
       "True"
      ]
     },
     "execution_count": 93,
     "metadata": {},
     "output_type": "execute_result"
    }
   ],
   "source": [
    "car != 'audi'"
   ]
  },
  {
   "cell_type": "markdown",
   "metadata": {},
   "source": [
    "###### Checking Multiple Conditions\n",
    "\n",
    "- We can use <b>and</b> and <b>or</b> to check for multiple conditions.\n",
    "\n",
    "    <b><u>and</u></b>\n",
    "    - <b>and</b> means that all the conditions must evaluate to <b>True</b> for the test to pass.\n",
    "    - If either test fails or if both tests fail, the expression evaluates to <b>False</b>.\n",
    "        \n",
    "    <b><u>or</u></b>\n",
    "    - <b>or</b> means that just one of the conditions must evaluate to <b>True</b> for the test to pass.\n",
    "    - If either test passes or if both tests pass, the expression evaluates to <b>True</b>."
   ]
  },
  {
   "cell_type": "code",
   "execution_count": 118,
   "metadata": {},
   "outputs": [
    {
     "data": {
      "text/plain": [
       "False"
      ]
     },
     "execution_count": 118,
     "metadata": {},
     "output_type": "execute_result"
    }
   ],
   "source": [
    "age_0 = 22\n",
    "age_1 = 18\n",
    "age_0 >= 21 and age_1 >= 21"
   ]
  },
  {
   "cell_type": "code",
   "execution_count": 94,
   "metadata": {},
   "outputs": [
    {
     "data": {
      "text/plain": [
       "True"
      ]
     },
     "execution_count": 94,
     "metadata": {},
     "output_type": "execute_result"
    }
   ],
   "source": [
    "age_0 = 22\n",
    "age_1 = 18\n",
    "age_0 >= 21 or age_1 >= 21"
   ]
  },
  {
   "cell_type": "markdown",
   "metadata": {},
   "source": [
    "##### IF Statements\n",
    "- At the heart of every if statement is an expression that can be evaluated as <b>True</b> or <b>False</b> and is called a <b>conditional test.</b>\n",
    "- Python uses the values True and False to decide whether the code in an if statement should be executed. \n",
    "- If a conditional test evaluates to True, Python executes the code following the if statement. \n",
    "- If the test evaluates to False, Python ignores the code following the if statement."
   ]
  },
  {
   "cell_type": "code",
   "execution_count": 127,
   "metadata": {},
   "outputs": [
    {
     "data": {
      "text/plain": [
       "False"
      ]
     },
     "execution_count": 127,
     "metadata": {},
     "output_type": "execute_result"
    }
   ],
   "source": [
    "x > y"
   ]
  },
  {
   "cell_type": "code",
   "execution_count": 133,
   "metadata": {},
   "outputs": [
    {
     "name": "stdout",
     "output_type": "stream",
     "text": [
      "You are old enough to vote!\n"
     ]
    }
   ],
   "source": [
    "age = 19\n",
    "if age > 18:\n",
    "    print('You are old enough to vote!')"
   ]
  },
  {
   "cell_type": "markdown",
   "metadata": {},
   "source": [
    "###### if-else Statements\n",
    "- Often, you’ll want to take one action when a conditional test passes and a different action in all other cases.\n",
    "- Python’s if-else syntax makes this possible.\n",
    "- An if-else block is similar to a simple if statement, but the else statement allows you to define an action or set of actions that are executed when the conditional test fails."
   ]
  },
  {
   "cell_type": "code",
   "execution_count": 135,
   "metadata": {},
   "outputs": [
    {
     "name": "stdout",
     "output_type": "stream",
     "text": [
      "Sorry, you are too young to vote.\n"
     ]
    }
   ],
   "source": [
    "age = 17\n",
    "if age > 18:\n",
    "    print('You are old enough to vote!')\n",
    "else:\n",
    "    print('Sorry, you are too young to vote.')"
   ]
  },
  {
   "cell_type": "markdown",
   "metadata": {},
   "source": [
    "##### The if-elif-else Chain\n",
    "\n",
    "- Often, you’ll need to test more than two possible situations, and to evaluate these you can use Python’s if-elif-else syntax. \n",
    "- Python executes only one block in an if-elif-else chain. \n",
    "- It runs each conditional test in order until one passes. \n",
    "- When a test passes, the code following that test is executed and Python skips the rest of the tests.\n",
    "\n",
    "- You can use as many elif blocks in your code as you like."
   ]
  },
  {
   "cell_type": "code",
   "execution_count": 140,
   "metadata": {},
   "outputs": [
    {
     "name": "stdout",
     "output_type": "stream",
     "text": [
      "0\n"
     ]
    }
   ],
   "source": [
    "# Consider an game park that charges different rates for different age groups:\n",
    "# Below 10 yrs = Free\n",
    "# 10 - 18 = 5\n",
    "# 19 - 65 = 10\n",
    "# Above 65 = 1\n",
    "\n",
    "age = 7\n",
    "if age <= 10:\n",
    "    entryFee = 0\n",
    "    print(entryFee)\n",
    "elif age < 18:\n",
    "    entryFee = 5\n",
    "    print(entryFee)\n",
    "elif age < 65:\n",
    "    entryFee = 10\n",
    "    print(entryFee)\n",
    "else:\n",
    "    entryFee = 1\n",
    "    print(entryFee)"
   ]
  },
  {
   "cell_type": "markdown",
   "metadata": {},
   "source": [
    "###### Omitting the else Block\n",
    "- Python does not require an else block at the end of an if-elif chain. \n",
    "- Sometimes an else block is useful; sometimes it is clearer to use an additional elif statement that catches the specific condition of interest:"
   ]
  },
  {
   "cell_type": "code",
   "execution_count": 145,
   "metadata": {},
   "outputs": [
    {
     "name": "stdout",
     "output_type": "stream",
     "text": [
      "1\n"
     ]
    }
   ],
   "source": [
    "age = 65\n",
    "if age <= 10:\n",
    "    entryFee = 0\n",
    "    print(entryFee)\n",
    "elif age < 18:\n",
    "    entryFee = 5\n",
    "    print(entryFee)\n",
    "elif age < 65:\n",
    "    entryFee = 10\n",
    "    print(entryFee)\n",
    "elif age >= 65:\n",
    "    entryFee = 1\n",
    "    print(entryFee)"
   ]
  },
  {
   "cell_type": "markdown",
   "metadata": {},
   "source": [
    "###### Conditional Operators with if Statements"
   ]
  },
  {
   "cell_type": "code",
   "execution_count": 146,
   "metadata": {},
   "outputs": [],
   "source": [
    "# and\n",
    "if x > 4 and x <= 12:\n",
    "    print(f'{x} is greater than 2 and less than or equal to 10')"
   ]
  },
  {
   "cell_type": "code",
   "execution_count": 147,
   "metadata": {},
   "outputs": [
    {
     "name": "stdout",
     "output_type": "stream",
     "text": [
      "2 is greater than 2 or less than or equal to 10\n"
     ]
    }
   ],
   "source": [
    "# or\n",
    "if x >= 4 or x <= 12:\n",
    "    print(f'{x} is greater than 2 or less than or equal to 10')"
   ]
  },
  {
   "cell_type": "code",
   "execution_count": 148,
   "metadata": {},
   "outputs": [
    {
     "name": "stdout",
     "output_type": "stream",
     "text": [
      "2 is not equal to 25.714474416\n"
     ]
    }
   ],
   "source": [
    "# not\n",
    "if not(x == y):\n",
    "    print(f'{x} is not equal to {y}')"
   ]
  },
  {
   "cell_type": "markdown",
   "metadata": {},
   "source": [
    "## Loops\n",
    "\n",
    "- The concept of looping is important because it’s one of the most common ways a computer automates repetitive tasks.\n",
    "- Loops are mechanisms for iterating over a list of items while performing a consistent action on each of them\n",
    "- In python there are 2 types of loops:\n",
    "    - For loop\n",
    "    - While loop"
   ]
  },
  {
   "cell_type": "code",
   "execution_count": null,
   "metadata": {},
   "outputs": [],
   "source": []
  },
  {
   "cell_type": "markdown",
   "metadata": {},
   "source": [
    "###### For loop\n",
    "- A for loop is used for iterating over a sequence (that is either a list, a tuple, a dictionary, a set, or a string).\n",
    "- The for loop takes a collection of items and executes a block of code once for each item in the collection.\n",
    "\n",
    "<img src=\"files/for loop.png\" width=\"500\" height=\"300\">"
   ]
  },
  {
   "cell_type": "code",
   "execution_count": 150,
   "metadata": {},
   "outputs": [],
   "source": [
    "students = ['Emma', 'Sandy','Sara','James', 'Ethan']"
   ]
  },
  {
   "cell_type": "code",
   "execution_count": 151,
   "metadata": {},
   "outputs": [
    {
     "name": "stdout",
     "output_type": "stream",
     "text": [
      "Hello Emma!\n",
      "Hello Sandy!\n",
      "Hello Sara!\n",
      "Hello James!\n",
      "Hello Ethan!\n"
     ]
    }
   ],
   "source": [
    "#simple loop  \n",
    "for s in students:\n",
    "    print(f'Hello {s}!')"
   ]
  },
  {
   "cell_type": "code",
   "execution_count": 152,
   "metadata": {},
   "outputs": [
    {
     "name": "stdout",
     "output_type": "stream",
     "text": [
      "Hello Emma!\n",
      "Hello Sandy!\n",
      "Hello Sara!\n"
     ]
    }
   ],
   "source": [
    "# Break\n",
    "# Break is used to exit the loop without executing the rest of the code inside that loop.\n",
    "for student in students:\n",
    "    print(f'Hello {student}!')\n",
    "    if student == 'Sara':       \n",
    "        break    "
   ]
  },
  {
   "cell_type": "code",
   "execution_count": 145,
   "metadata": {},
   "outputs": [
    {
     "name": "stdout",
     "output_type": "stream",
     "text": [
      "1\n",
      "3\n",
      "5\n",
      "7\n",
      "9\n"
     ]
    }
   ],
   "source": [
    "# Continue\n",
    "\"\"\"Rather than breaking out of a loop entirely without executing the rest of its\n",
    "code, you can use the continue statement to return to the beginning of the\n",
    "loop based on the result of a conditional test. For example, consider a loop\n",
    "that counts from 1 to 10 but prints only the odd numbers in that range:\"\"\"\n",
    "\n",
    "current_number = 0\n",
    "while current_number < 10:\n",
    "    current_number += 1\n",
    "    if current_number % 2 == 0:\n",
    "        continue\n",
    "\n",
    "    print(current_number)        "
   ]
  },
  {
   "cell_type": "code",
   "execution_count": 134,
   "metadata": {},
   "outputs": [
    {
     "data": {
      "text/plain": [
       "0"
      ]
     },
     "execution_count": 134,
     "metadata": {},
     "output_type": "execute_result"
    }
   ],
   "source": []
  },
  {
   "cell_type": "markdown",
   "metadata": {},
   "source": [
    "###### While loop\n",
    "- On the other hand, the while loop runs as long as, or while, a certain condition is true.\n",
    "\n",
    "<img src=\"files/while_loop.png\" width=\"500\" height=\"300\">"
   ]
  },
  {
   "cell_type": "code",
   "execution_count": 154,
   "metadata": {},
   "outputs": [
    {
     "name": "stdout",
     "output_type": "stream",
     "text": [
      "Playing the game\n",
      "1\n",
      "Playing the game\n",
      "2\n",
      "Playing the game\n",
      "3\n",
      "Playing the game\n",
      "4\n",
      "Playing the game\n",
      "5\n",
      "Playing the game\n",
      "6\n",
      "Playing the game\n",
      "7\n",
      "Playing the game\n",
      "8\n",
      "Playing the game\n",
      "9\n",
      "Playing the game\n",
      "10\n"
     ]
    }
   ],
   "source": [
    "isActive = True # Flag\n",
    "count=0\n",
    "while isActive:\n",
    "    count+=1\n",
    "    print('Playing the game')\n",
    "    print(count)\n",
    "    if count == 10:\n",
    "       isActive=False "
   ]
  },
  {
   "cell_type": "code",
   "execution_count": 114,
   "metadata": {},
   "outputs": [],
   "source": [
    "# Avoid using infinite loops\n",
    "#x = 5\n",
    "#while x >= 5:\n",
    "#    print(x)\n",
    "#    x += 1"
   ]
  },
  {
   "cell_type": "markdown",
   "metadata": {},
   "source": [
    "###### We can use break and continue in while loops the same why we did in for loop."
   ]
  },
  {
   "cell_type": "markdown",
   "metadata": {},
   "source": [
    "## User Input\n",
    "\n",
    "- Most programs are written to solve an end user’s problem.\n",
    "- To do so, you usually need to get some information from the user.\n",
    "- To do this, you’ll use the input() function.\n",
    "- The input() function pauses your program and waits for the user to enter some text"
   ]
  },
  {
   "cell_type": "code",
   "execution_count": 155,
   "metadata": {},
   "outputs": [
    {
     "name": "stdout",
     "output_type": "stream",
     "text": [
      "What is your name? Regan\n",
      "Regan\n"
     ]
    }
   ],
   "source": [
    "name = input('What is your name? ')\n",
    "print(name)"
   ]
  },
  {
   "cell_type": "code",
   "execution_count": 159,
   "metadata": {},
   "outputs": [
    {
     "name": "stdout",
     "output_type": "stream",
     "text": [
      "How old are you? 670\n",
      "Next year you will be 671.0 years old.\n"
     ]
    }
   ],
   "source": [
    "# When you use the input() function, Python interprets everything the user enters as a string.\n",
    "# We can resolve this issue by using the int() function, which tells Python to treat the input as a numerical value.\n",
    "\n",
    "age = input('How old are you? ')\n",
    "print(f'Next year you will be {float(age) + 1} years old.')"
   ]
  },
  {
   "cell_type": "code",
   "execution_count": null,
   "metadata": {},
   "outputs": [],
   "source": []
  },
  {
   "cell_type": "markdown",
   "metadata": {},
   "source": [
    "## Functions\n",
    "\n",
    "- Functions are named blocks of code that are designed to do one specific job.\n",
    "- When you want to perform a particular task that you’ve defined in a function, you call the name of the function responsible for it.\n",
    "- A function can be called many times inside a program.\n",
    "- In python, a function is defined using <b>def</b> keyword.\n",
    "- This is the function definition, which tells Python the name of the function and, if applicable, what kind of information the function needs to do its job.\n",
    "- The parentheses hold that information.\n",
    "- The definition ends in a <u>colon</u>.\n",
    "- Any indented lines that follow <u>def function_name()</u>: make up the body of the function.\n",
    "- The text encolosed in triple quaotes is called a <b>docstring</b>, which describes what the function does.\n",
    "- <i>Whilst Doctring is not mandatory its important because it enables other programmers to understand what the function does and also python looks for the DOCSTRING when generating documentation for functions in your program</i>"
   ]
  },
  {
   "cell_type": "code",
   "execution_count": 161,
   "metadata": {},
   "outputs": [
    {
     "name": "stdout",
     "output_type": "stream",
     "text": [
      "Hello, user!\n"
     ]
    }
   ],
   "source": [
    "def greet_user():\n",
    "    \"\"\"Display a simple greeting.\"\"\"\n",
    "    print(f'Hello, user!')\n",
    "    \n",
    "# A function call tells Python to execute the code in the function\n",
    "greet_user()"
   ]
  },
  {
   "cell_type": "markdown",
   "metadata": {},
   "source": [
    "###### Passing Information to a Function\n",
    "\n",
    "- We can pass information to the function by adding the information inside parentheses in the function definition.\n",
    "- You can pass as many pieces of information as necessary as long as they are separated by a comma."
   ]
  },
  {
   "cell_type": "code",
   "execution_count": 166,
   "metadata": {},
   "outputs": [
    {
     "name": "stdout",
     "output_type": "stream",
     "text": [
      "My name is Nelson, I am 35 years old!\n"
     ]
    }
   ],
   "source": [
    "def greet_user(name,age):\n",
    "    \"\"\"Display a simple greeting.\"\"\"\n",
    "    print(f'My name is {name}, I am {age} years old!')\n",
    "    \n",
    "greet_user('Nelson',35)"
   ]
  },
  {
   "cell_type": "markdown",
   "metadata": {},
   "source": [
    "- In the example above, the variable <u>'name'</u> in the greet_user() definition is called a <b>Parameter</b>, i.e a piece of information the function needs to do its job.\n",
    "- The value <u>'Leo'</u> in greet_user('Leo') is an <b>argument</b>.\n",
    "- An argument is a piece of information that is passed from a function call to a function.\n",
    "- There are several type of arguments:\n",
    "    - Positional arguments\n",
    "    - Keyword arguments\n",
    "    - Default Values\n",
    "    - Arbitrary arguments"
   ]
  },
  {
   "cell_type": "code",
   "execution_count": 167,
   "metadata": {},
   "outputs": [
    {
     "name": "stdout",
     "output_type": "stream",
     "text": [
      "My car is a 2003 VOLKWAGEN Bettle\n"
     ]
    }
   ],
   "source": [
    "# Positional  (Order matters)\n",
    "def my_car(maker, model, year):\n",
    "    \"\"\"Positional argument in python\"\"\"\n",
    "    print(f'My car is a {year} {maker.upper()} {model}')\n",
    "    \n",
    "my_car('VolkWagen','Bettle', 2003)"
   ]
  },
  {
   "cell_type": "code",
   "execution_count": 169,
   "metadata": {},
   "outputs": [
    {
     "name": "stdout",
     "output_type": "stream",
     "text": [
      "My car is a 2003 VOLKWAGEN BETTLE\n"
     ]
    }
   ],
   "source": [
    "# Keyword  (Order does not matters)\n",
    "def my_car2(maker, model, year):\n",
    "    \"\"\"Keyword argument in python\"\"\"\n",
    "    print(f'My car is a {year} {maker.upper()} {model.upper()}')\n",
    "    \n",
    "my_car2(year=2003, model='Bettle', maker='VolkWagen')"
   ]
  },
  {
   "cell_type": "code",
   "execution_count": 171,
   "metadata": {},
   "outputs": [
    {
     "name": "stdout",
     "output_type": "stream",
     "text": [
      "My car is a 1999 VOLKWAGEN BETTLE\n"
     ]
    }
   ],
   "source": [
    "# Default Arguments (Are passed during function definition )\n",
    "def my_car3(maker, model, year=2003):\n",
    "    \"\"\"Default argument in python\"\"\"\n",
    "    print(f'My car is a {year} {maker.upper()} {model.upper()}')\n",
    "    \n",
    "my_car3('VolkWagen',  model='Bettle')\n",
    "# When using using keyword arguments with positional argument, the positional argument should come first."
   ]
  },
  {
   "cell_type": "code",
   "execution_count": 172,
   "metadata": {},
   "outputs": [
    {
     "name": "stdout",
     "output_type": "stream",
     "text": [
      "Hello, Bezos!\n",
      "Hello, Gates!\n",
      "Hello, Jobs!\n"
     ]
    }
   ],
   "source": [
    "# Arbitrary arguments \n",
    "# ( Used when we do not know in advance the number of arguments that will be passed into a function.)\n",
    "def greet_people(*names):\n",
    "    \"\"\"Greet the people\"\"\"\n",
    "    for name in names:\n",
    "        print(f'Hello, {name}!')\n",
    "        \n",
    "greet_people('Bezos', 'Gates', 'Jobs')"
   ]
  },
  {
   "cell_type": "code",
   "execution_count": null,
   "metadata": {},
   "outputs": [],
   "source": []
  },
  {
   "cell_type": "markdown",
   "metadata": {},
   "source": [
    "###### Return Values\n",
    "- A function doesn’t always have to display its output directly. Instead, it can process some data and then return a value or set of values. \n",
    "- The value the function returns is called a return value. \n",
    "- The return statement takes a value from inside a function and sends it back to the line that called the function.\n",
    "- Return values allow you to move much of your program’s grunt work into functions, which can simplify the body of your program."
   ]
  },
  {
   "cell_type": "code",
   "execution_count": 174,
   "metadata": {},
   "outputs": [
    {
     "name": "stdout",
     "output_type": "stream",
     "text": [
      "16\n"
     ]
    }
   ],
   "source": [
    "def square(num):\n",
    "    \"\"\"\n",
    "    function to  square a number \n",
    "    \"\"\"\n",
    "    return num**2\n",
    "\n",
    "sq = square(4)\n",
    "print(sq)"
   ]
  },
  {
   "cell_type": "code",
   "execution_count": 143,
   "metadata": {},
   "outputs": [
    {
     "name": "stdout",
     "output_type": "stream",
     "text": [
      "0 : 0\n",
      "1 : 1\n",
      "2 : 4\n",
      "3 : 9\n",
      "4 : 16\n"
     ]
    }
   ],
   "source": [
    "# Function can be used inside loops\n",
    "for num in range(5):\n",
    "    print(f'{num} : {square(num)}')"
   ]
  },
  {
   "cell_type": "code",
   "execution_count": null,
   "metadata": {},
   "outputs": [],
   "source": []
  },
  {
   "cell_type": "markdown",
   "metadata": {},
   "source": [
    "## Modules\n",
    "\n",
    "\n",
    "- A module is a file containing a set of functions to include in your application. \n",
    "- There are core python modules which are part of the Python environment, modules you can install using the pip package manager as well as custom modules\n"
   ]
  },
  {
   "cell_type": "code",
   "execution_count": 144,
   "metadata": {},
   "outputs": [
    {
     "data": {
      "text/plain": [
       "datetime.date(2021, 8, 11)"
      ]
     },
     "execution_count": 144,
     "metadata": {},
     "output_type": "execute_result"
    }
   ],
   "source": [
    "# Core modules\n",
    "import datetime\n",
    "from datetime import date\n",
    "import time\n",
    "from time import time\n",
    "\n",
    "# Pip module\n",
    "import pandas as pd\n",
    "import numpy as np\n",
    "\n",
    "# Import custom module\n",
    "\n",
    "\n",
    "# today = datetime.date.today()\n",
    "today = date.today()\n",
    "timestamp = time()\n",
    "\n",
    "today"
   ]
  },
  {
   "cell_type": "code",
   "execution_count": null,
   "metadata": {},
   "outputs": [],
   "source": []
  },
  {
   "cell_type": "markdown",
   "metadata": {},
   "source": [
    "## Practial MAKING A BASIC CALCULATOR USING PYTHON¶"
   ]
  },
  {
   "cell_type": "code",
   "execution_count": 175,
   "metadata": {},
   "outputs": [],
   "source": [
    "# This function adds two numbers\n",
    "def add(x, y):\n",
    "    return x + y\n",
    "\n",
    "# This function subtracts two numbers\n",
    "def subtract(x, y):\n",
    "    return x - y\n",
    "\n",
    "# This function multiplies two numbers\n",
    "def multiply(x, y):\n",
    "    return x * y\n",
    "\n",
    "# This function divides two numbers\n",
    "def divide(x, y):\n",
    "    return x / y"
   ]
  },
  {
   "cell_type": "code",
   "execution_count": 176,
   "metadata": {},
   "outputs": [
    {
     "name": "stdout",
     "output_type": "stream",
     "text": [
      "1 - Add\n",
      "2 - Subtract\n",
      "3 - Multiply\n",
      "4 - Divide\n",
      "Enter operation(1, 2, 3, 4): 3\n",
      "Enter first number 4\n",
      "Enter second number 3\n",
      "4 x 3 = 12\n",
      "Another operation? (y/n)y\n"
     ]
    },
    {
     "ename": "KeyboardInterrupt",
     "evalue": "Interrupted by user",
     "output_type": "error",
     "traceback": [
      "\u001b[1;31m---------------------------------------------------------------------------\u001b[0m",
      "\u001b[1;31mKeyboardInterrupt\u001b[0m                         Traceback (most recent call last)",
      "\u001b[1;32m<ipython-input-176-a96e9d99bb90>\u001b[0m in \u001b[0;36m<module>\u001b[1;34m\u001b[0m\n\u001b[0;32m      6\u001b[0m \u001b[1;32mwhile\u001b[0m \u001b[0mactive\u001b[0m\u001b[1;33m:\u001b[0m\u001b[1;33m\u001b[0m\u001b[1;33m\u001b[0m\u001b[0m\n\u001b[0;32m      7\u001b[0m      \u001b[1;31m# Take input from the user\u001b[0m\u001b[1;33m\u001b[0m\u001b[1;33m\u001b[0m\u001b[1;33m\u001b[0m\u001b[0m\n\u001b[1;32m----> 8\u001b[1;33m     \u001b[0moperation\u001b[0m \u001b[1;33m=\u001b[0m \u001b[0minput\u001b[0m\u001b[1;33m(\u001b[0m\u001b[1;34m\"Enter operation(1, 2, 3, 4): \"\u001b[0m\u001b[1;33m)\u001b[0m\u001b[1;33m\u001b[0m\u001b[1;33m\u001b[0m\u001b[0m\n\u001b[0m\u001b[0;32m      9\u001b[0m     \u001b[1;32mif\u001b[0m \u001b[0moperation\u001b[0m \u001b[1;32min\u001b[0m \u001b[1;33m(\u001b[0m\u001b[1;34m'1'\u001b[0m\u001b[1;33m,\u001b[0m \u001b[1;34m'2'\u001b[0m\u001b[1;33m,\u001b[0m \u001b[1;34m'3'\u001b[0m\u001b[1;33m,\u001b[0m \u001b[1;34m'4'\u001b[0m\u001b[1;33m)\u001b[0m\u001b[1;33m:\u001b[0m\u001b[1;33m\u001b[0m\u001b[1;33m\u001b[0m\u001b[0m\n\u001b[0;32m     10\u001b[0m         \u001b[0mnum1\u001b[0m \u001b[1;33m=\u001b[0m \u001b[0mint\u001b[0m\u001b[1;33m(\u001b[0m\u001b[0minput\u001b[0m\u001b[1;33m(\u001b[0m\u001b[1;34m'Enter first number '\u001b[0m\u001b[1;33m)\u001b[0m\u001b[1;33m)\u001b[0m\u001b[1;33m\u001b[0m\u001b[1;33m\u001b[0m\u001b[0m\n",
      "\u001b[1;32m~\\AppData\\Roaming\\Python\\Python38\\site-packages\\ipykernel\\kernelbase.py\u001b[0m in \u001b[0;36mraw_input\u001b[1;34m(self, prompt)\u001b[0m\n\u001b[0;32m    858\u001b[0m                 \u001b[1;34m\"raw_input was called, but this frontend does not support input requests.\"\u001b[0m\u001b[1;33m\u001b[0m\u001b[1;33m\u001b[0m\u001b[0m\n\u001b[0;32m    859\u001b[0m             )\n\u001b[1;32m--> 860\u001b[1;33m         return self._input_request(str(prompt),\n\u001b[0m\u001b[0;32m    861\u001b[0m             \u001b[0mself\u001b[0m\u001b[1;33m.\u001b[0m\u001b[0m_parent_ident\u001b[0m\u001b[1;33m,\u001b[0m\u001b[1;33m\u001b[0m\u001b[1;33m\u001b[0m\u001b[0m\n\u001b[0;32m    862\u001b[0m             \u001b[0mself\u001b[0m\u001b[1;33m.\u001b[0m\u001b[0m_parent_header\u001b[0m\u001b[1;33m,\u001b[0m\u001b[1;33m\u001b[0m\u001b[1;33m\u001b[0m\u001b[0m\n",
      "\u001b[1;32m~\\AppData\\Roaming\\Python\\Python38\\site-packages\\ipykernel\\kernelbase.py\u001b[0m in \u001b[0;36m_input_request\u001b[1;34m(self, prompt, ident, parent, password)\u001b[0m\n\u001b[0;32m    902\u001b[0m             \u001b[1;32mexcept\u001b[0m \u001b[0mKeyboardInterrupt\u001b[0m\u001b[1;33m:\u001b[0m\u001b[1;33m\u001b[0m\u001b[1;33m\u001b[0m\u001b[0m\n\u001b[0;32m    903\u001b[0m                 \u001b[1;31m# re-raise KeyboardInterrupt, to truncate traceback\u001b[0m\u001b[1;33m\u001b[0m\u001b[1;33m\u001b[0m\u001b[1;33m\u001b[0m\u001b[0m\n\u001b[1;32m--> 904\u001b[1;33m                 \u001b[1;32mraise\u001b[0m \u001b[0mKeyboardInterrupt\u001b[0m\u001b[1;33m(\u001b[0m\u001b[1;34m\"Interrupted by user\"\u001b[0m\u001b[1;33m)\u001b[0m \u001b[1;32mfrom\u001b[0m \u001b[1;32mNone\u001b[0m\u001b[1;33m\u001b[0m\u001b[1;33m\u001b[0m\u001b[0m\n\u001b[0m\u001b[0;32m    905\u001b[0m             \u001b[1;32mexcept\u001b[0m \u001b[0mException\u001b[0m \u001b[1;32mas\u001b[0m \u001b[0me\u001b[0m\u001b[1;33m:\u001b[0m\u001b[1;33m\u001b[0m\u001b[1;33m\u001b[0m\u001b[0m\n\u001b[0;32m    906\u001b[0m                 \u001b[0mself\u001b[0m\u001b[1;33m.\u001b[0m\u001b[0mlog\u001b[0m\u001b[1;33m.\u001b[0m\u001b[0mwarning\u001b[0m\u001b[1;33m(\u001b[0m\u001b[1;34m\"Invalid Message:\"\u001b[0m\u001b[1;33m,\u001b[0m \u001b[0mexc_info\u001b[0m\u001b[1;33m=\u001b[0m\u001b[1;32mTrue\u001b[0m\u001b[1;33m)\u001b[0m\u001b[1;33m\u001b[0m\u001b[1;33m\u001b[0m\u001b[0m\n",
      "\u001b[1;31mKeyboardInterrupt\u001b[0m: Interrupted by user"
     ]
    }
   ],
   "source": [
    "print('1 - Add')\n",
    "print('2 - Subtract')\n",
    "print('3 - Multiply')\n",
    "print('4 - Divide')\n",
    "active = True\n",
    "while active:\n",
    "     # Take input from the user\n",
    "    operation = input(\"Enter operation(1, 2, 3, 4): \")\n",
    "    if operation in ('1', '2', '3', '4'):\n",
    "        num1 = int(input('Enter first number '))\n",
    "        num2 = int(input('Enter second number '))\n",
    "        if operation == '1':\n",
    "            print(f'{num1} + {num2} = {add(num1,num2)}')\n",
    "        elif operation == '2':\n",
    "            print(f'{num1} - {num2} = {subtract(num1, num2)}')\n",
    "        elif operation == '3':\n",
    "            print(f'{num1} x {num2} = {multiply(num1, num2)}')\n",
    "        elif operation == '4':\n",
    "            print(f'{num1} / {num2} = {divide(num1, num2)}')\n",
    "        msg = input('Another operation? (y/n)')\n",
    "        if msg.lower() == 'y':\n",
    "            continue\n",
    "        elif msg.lower() == 'n':\n",
    "            active=False\n",
    "    else:\n",
    "        print('Invalid Operation!')\n",
    "        break"
   ]
  },
  {
   "cell_type": "code",
   "execution_count": null,
   "metadata": {},
   "outputs": [],
   "source": []
  }
 ],
 "metadata": {
  "kernelspec": {
   "display_name": "Python 3",
   "language": "python",
   "name": "python3"
  },
  "language_info": {
   "codemirror_mode": {
    "name": "ipython",
    "version": 3
   },
   "file_extension": ".py",
   "mimetype": "text/x-python",
   "name": "python",
   "nbconvert_exporter": "python",
   "pygments_lexer": "ipython3",
   "version": "3.8.8"
  }
 },
 "nbformat": 4,
 "nbformat_minor": 4
}
